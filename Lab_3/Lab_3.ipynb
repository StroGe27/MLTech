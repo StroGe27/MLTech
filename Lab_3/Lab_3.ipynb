{
  "cells": [
    {
      "cell_type": "markdown",
      "metadata": {
        "id": "b0pVBcDwtai3"
      },
      "source": [
        "### Реализация KNN языке Python"
      ]
    },
    {
      "cell_type": "code",
      "execution_count": null,
      "metadata": {
        "id": "j7fP2K2ftai3"
      },
      "outputs": [],
      "source": [
        "from operator import itemgetter\n",
        "import matplotlib.pyplot as plt\n",
        "import matplotlib.ticker as ticker\n",
        "import numpy as np\n",
        "import math"
      ]
    },
    {
      "cell_type": "code",
      "execution_count": null,
      "metadata": {
        "id": "4BlVc6qptai3"
      },
      "outputs": [],
      "source": [
        "from enum import Enum\n",
        "class PredictionType(Enum):\n",
        "    CLASSIFICATION = 1\n",
        "    REGRESSION = 2"
      ]
    },
    {
      "cell_type": "code",
      "execution_count": null,
      "metadata": {
        "id": "c8bAq15otai4"
      },
      "outputs": [],
      "source": [
        "class SimpleKNN:\n",
        "\n",
        "    def fit(self, X_train: np.matrix, y_train: np.ndarray):\n",
        "        \"\"\"\n",
        "        Метод обучения, который фактически не учится,\n",
        "        а только запоминает обучающую выборку.\n",
        "        Входные параметры:\n",
        "        X_train - обучающая выборка (матрица объект-признак)\n",
        "        y_train - обучающая выборка (вектор целевого признака)\n",
        "        Возвращаемое значение: нет\n",
        "        \"\"\"\n",
        "        #Сохраняем параметры в переменных класса\n",
        "        self._X_train = X_train\n",
        "        self._y_train = y_train\n",
        "\n",
        "    def eucl_dist(self, p: np.ndarray, q: np.ndarray) -> float:\n",
        "        \"\"\"\n",
        "        Вычисление Евклидова расстояния - https://en.wikipedia.org/wiki/Euclidean_distance\n",
        "        Входные параметры:\n",
        "        p, q - вектора в n-мерном пространстве признаков\n",
        "        \"\"\"\n",
        "        return math.sqrt(sum([(pi - qi) ** 2 for pi, qi in zip (p, q)]))\n",
        "\n",
        "\n",
        "    def predict_for_single_object(self, K: int, \\\n",
        "                prediction_type: PredictionType, \\\n",
        "                X_o: np.ndarray, \\\n",
        "                verbose = True) -> np.ndarray:\n",
        "        \"\"\"\n",
        "        Метод предсказания для одного объекта.\n",
        "        Входные параметры:\n",
        "        K - гиперпараметр, количество соседей\n",
        "        prediction_type - классификация или регрессия\n",
        "        X_o - строка матрицы объект-признак, соответствующая объекту\n",
        "        verbose - флаг детального вывода\n",
        "        Возвращаемое значение: предсказанное значение целевого признака\n",
        "        \"\"\"\n",
        "        # список соседей\n",
        "        neighbors_list = []\n",
        "        # *** Находим ближайшие точки ***\n",
        "        # Перебираем все точки обучающей выборки\n",
        "        for i in range(self._X_train.shape[0]):\n",
        "            # получаем текущую точку\n",
        "            data_train_current_x = [x for x in self._X_train[['x1','x2']].iloc[i]]\n",
        "            # и значение ее y\n",
        "            data_train_current_y = self._y_train[i]\n",
        "            # вычисляем расстояние\n",
        "            dist = self.eucl_dist(X_o, data_train_current_x)\n",
        "            # сохраняем в список соседей\n",
        "            temp_res = (data_train_current_y, dist, data_train_current_x)\n",
        "            neighbors_list.append(temp_res)\n",
        "        # *** сортируем список соседей по возрастанию расстояния ***\n",
        "        # в кортеже элементы следуют в порядке (0,1,2), сортируем по первому элементу\n",
        "        neighbors_list_sorted = sorted(neighbors_list, key=itemgetter(1))\n",
        "        if verbose:\n",
        "            print()\n",
        "            print('**************************************')\n",
        "            print('Проверяемая точка: ', X_o)\n",
        "            print('**************************************')\n",
        "            print('Вывод отсортированного списка соседей:')\n",
        "            dist_list = []\n",
        "            for cur_y, cur_dist, temp_x_1_2 in neighbors_list_sorted:\n",
        "                temp_x1, temp_x2 = temp_x_1_2\n",
        "                print('X1={0}, X2={1}, y={2}, расстояние={3:.2f}'.format(temp_x1, temp_x2, cur_y, cur_dist))\n",
        "                dist_list.append(cur_dist)\n",
        "            print()\n",
        "            print('Вывод расстояния для отсортированного списка соседей:')\n",
        "            plt.plot(dist_list)\n",
        "            plt.show()\n",
        "        # Оставим только K ближайших соседей\n",
        "        K_neighbors_list_sorted = neighbors_list_sorted[:K]\n",
        "        if verbose:\n",
        "            print('Вывод К ближайших соседей:')\n",
        "            x1_list = []\n",
        "            x2_list = []\n",
        "            for cur_y, cur_dist, temp_x_1_2 in K_neighbors_list_sorted:\n",
        "                temp_x1, temp_x2 = temp_x_1_2\n",
        "                x1_list.append(temp_x1)\n",
        "                x2_list.append(temp_x2)\n",
        "                print('X1={0}, X2={1}, y={2}, расстояние={3:.2f}'.format(temp_x1, temp_x2, cur_y, cur_dist))\n",
        "            print()\n",
        "            print('Визуализация К ближайших соседей:')\n",
        "            plt.plot(self._X_train['x1'], self._X_train['x2'], 'b.', \\\n",
        "                     x1_list, x2_list,  'g*', \\\n",
        "                    [X_o[0]], [X_o[1]], 'ro')\n",
        "            plt.show()\n",
        "        # Результат - классификация или регрессия\n",
        "        if prediction_type == PredictionType.REGRESSION:\n",
        "            # используем numpy для вычисления среднего значения\n",
        "            arr = np.array([x for x,_,_ in K_neighbors_list_sorted])\n",
        "            # возвращаем среднее значение\n",
        "            return np.mean(arr)\n",
        "        elif prediction_type == PredictionType.CLASSIFICATION:\n",
        "            k_y_list = [y for y,_,_ in K_neighbors_list_sorted]\n",
        "            # группируем с количеством метки классов,\n",
        "            # соответствующие K ближайшим соседям\n",
        "            k_y_list_grouped_temp = np.unique(k_y_list, return_counts=True)\n",
        "            k_y_list_grouped = [[key, cnt] for key, cnt in zip(k_y_list_grouped_temp[0], k_y_list_grouped_temp[1])]\n",
        "            # сортируем по количеству по убыванию\n",
        "            k_y_list_grouped_sorted = sorted(k_y_list_grouped, key=itemgetter(1), reverse=True)\n",
        "            if verbose:\n",
        "                print('Классы, соответствующие К ближайшим соседям:')\n",
        "                for i in k_y_list_grouped_sorted:\n",
        "                    print('класс={0}, количество элементов={1}'.format(i[0], i[1]))\n",
        "            # возвращаеv метку класса из первой строки отсортированного массива\n",
        "            # то есть того класса, к которому принадлежит наибольшее количество соседей\n",
        "            return k_y_list_grouped_sorted[0][0]\n",
        "        else:\n",
        "            raise Exception('Неизвестный тип предсказания')\n",
        "\n",
        "\n",
        "    def predict(self, K: int, \\\n",
        "                prediction_type: PredictionType, \\\n",
        "                X_test: np.matrix,\n",
        "                verbose = True) -> np.ndarray:\n",
        "        \"\"\"\n",
        "        Метод предсказания.\n",
        "        Входные параметры:\n",
        "        K - гиперпараметр, количество соседей\n",
        "        prediction_type - классификация или регрессия\n",
        "        X_test - тестовая выборка (матрица объект-признак)\n",
        "        Возвращаемое значение: предсказанный вектор целевого признака\n",
        "        \"\"\"\n",
        "        # Перебираем все точки тестовой выборки\n",
        "        test_data_temp = []\n",
        "        for i in range(X_test.shape[0]):\n",
        "            # получаем текущую точку\n",
        "            data_test_current_x = [x for x in X_test.iloc[i]]\n",
        "            test_data_temp.append(data_test_current_x)\n",
        "        return [self.predict_for_single_object(K=K, \\\n",
        "                prediction_type=prediction_type, \\\n",
        "                X_o=i, verbose=verbose) for i in test_data_temp]\n"
      ]
    },
    {
      "cell_type": "markdown",
      "metadata": {
        "id": "EFY3b0CHtai5"
      },
      "source": [
        "### Обучающая и тестовая выборки"
      ]
    },
    {
      "cell_type": "markdown",
      "metadata": {
        "id": "CxrBW62jtai6"
      },
      "source": [
        "- В качестве обучающей выборки будем использовать набор точек на плоскости в диапазоне от 0 до 10.\n",
        "- Конечно, алгоритм может работать с многомерным пространством, но для удобства демонстраиции алгоритма мы используем двухмерный набор данных.\n",
        "- Если разные признаки имеют сильно отличающиеся диапазоны значений, то применяют масштабирование исходных данных."
      ]
    },
    {
      "cell_type": "code",
      "execution_count": null,
      "metadata": {
        "id": "LJXKw3wNtai6"
      },
      "outputs": [],
      "source": [
        "import pandas as pd"
      ]
    },
    {
      "cell_type": "code",
      "execution_count": null,
      "metadata": {
        "colab": {
          "base_uri": "https://localhost:8080/",
          "height": 394
        },
        "id": "88daG1sgtai6",
        "outputId": "0fee1a10-0c06-4147-c5e9-615b36bd0562"
      },
      "outputs": [
        {
          "data": {
            "application/vnd.google.colaboratory.intrinsic+json": {
              "summary": "{\n  \"name\": \"data_train\",\n  \"rows\": 11,\n  \"fields\": [\n    {\n      \"column\": \"x1\",\n      \"properties\": {\n        \"dtype\": \"number\",\n        \"std\": 3.877745361793254,\n        \"min\": 0.5,\n        \"max\": 9.5,\n        \"num_unique_values\": 9,\n        \"samples\": [\n          8.7,\n          1.0,\n          9.0\n        ],\n        \"semantic_type\": \"\",\n        \"description\": \"\"\n      }\n    },\n    {\n      \"column\": \"x2\",\n      \"properties\": {\n        \"dtype\": \"number\",\n        \"std\": 3.8683564750655823,\n        \"min\": 1.0,\n        \"max\": 9.5,\n        \"num_unique_values\": 8,\n        \"samples\": [\n          1.2,\n          8.2,\n          1.0\n        ],\n        \"semantic_type\": \"\",\n        \"description\": \"\"\n      }\n    },\n    {\n      \"column\": \"y\",\n      \"properties\": {\n        \"dtype\": \"number\",\n        \"std\": 3.0104363924068007,\n        \"min\": 1.1,\n        \"max\": 8.3,\n        \"num_unique_values\": 10,\n        \"samples\": [\n          8.2,\n          1.2,\n          4.5\n        ],\n        \"semantic_type\": \"\",\n        \"description\": \"\"\n      }\n    }\n  ]\n}",
              "type": "dataframe",
              "variable_name": "data_train"
            },
            "text/html": [
              "\n",
              "  <div id=\"df-2ce4a202-2be8-4daf-86c7-2870612ab77b\" class=\"colab-df-container\">\n",
              "    <div>\n",
              "<style scoped>\n",
              "    .dataframe tbody tr th:only-of-type {\n",
              "        vertical-align: middle;\n",
              "    }\n",
              "\n",
              "    .dataframe tbody tr th {\n",
              "        vertical-align: top;\n",
              "    }\n",
              "\n",
              "    .dataframe thead th {\n",
              "        text-align: right;\n",
              "    }\n",
              "</style>\n",
              "<table border=\"1\" class=\"dataframe\">\n",
              "  <thead>\n",
              "    <tr style=\"text-align: right;\">\n",
              "      <th></th>\n",
              "      <th>x1</th>\n",
              "      <th>x2</th>\n",
              "      <th>y</th>\n",
              "    </tr>\n",
              "  </thead>\n",
              "  <tbody>\n",
              "    <tr>\n",
              "      <th>0</th>\n",
              "      <td>0.5</td>\n",
              "      <td>1.0</td>\n",
              "      <td>1.1</td>\n",
              "    </tr>\n",
              "    <tr>\n",
              "      <th>1</th>\n",
              "      <td>1.0</td>\n",
              "      <td>1.2</td>\n",
              "      <td>1.2</td>\n",
              "    </tr>\n",
              "    <tr>\n",
              "      <th>2</th>\n",
              "      <td>2.0</td>\n",
              "      <td>2.0</td>\n",
              "      <td>1.9</td>\n",
              "    </tr>\n",
              "    <tr>\n",
              "      <th>3</th>\n",
              "      <td>2.5</td>\n",
              "      <td>2.0</td>\n",
              "      <td>2.0</td>\n",
              "    </tr>\n",
              "    <tr>\n",
              "      <th>4</th>\n",
              "      <td>8.0</td>\n",
              "      <td>1.0</td>\n",
              "      <td>4.0</td>\n",
              "    </tr>\n",
              "    <tr>\n",
              "      <th>5</th>\n",
              "      <td>9.0</td>\n",
              "      <td>2.0</td>\n",
              "      <td>4.5</td>\n",
              "    </tr>\n",
              "    <tr>\n",
              "      <th>6</th>\n",
              "      <td>1.0</td>\n",
              "      <td>8.5</td>\n",
              "      <td>6.0</td>\n",
              "    </tr>\n",
              "    <tr>\n",
              "      <th>7</th>\n",
              "      <td>8.1</td>\n",
              "      <td>9.0</td>\n",
              "      <td>8.1</td>\n",
              "    </tr>\n",
              "    <tr>\n",
              "      <th>8</th>\n",
              "      <td>9.0</td>\n",
              "      <td>8.2</td>\n",
              "      <td>8.2</td>\n",
              "    </tr>\n",
              "    <tr>\n",
              "      <th>9</th>\n",
              "      <td>8.7</td>\n",
              "      <td>9.2</td>\n",
              "      <td>8.1</td>\n",
              "    </tr>\n",
              "    <tr>\n",
              "      <th>10</th>\n",
              "      <td>9.5</td>\n",
              "      <td>9.5</td>\n",
              "      <td>8.3</td>\n",
              "    </tr>\n",
              "  </tbody>\n",
              "</table>\n",
              "</div>\n",
              "    <div class=\"colab-df-buttons\">\n",
              "\n",
              "  <div class=\"colab-df-container\">\n",
              "    <button class=\"colab-df-convert\" onclick=\"convertToInteractive('df-2ce4a202-2be8-4daf-86c7-2870612ab77b')\"\n",
              "            title=\"Convert this dataframe to an interactive table.\"\n",
              "            style=\"display:none;\">\n",
              "\n",
              "  <svg xmlns=\"http://www.w3.org/2000/svg\" height=\"24px\" viewBox=\"0 -960 960 960\">\n",
              "    <path d=\"M120-120v-720h720v720H120Zm60-500h600v-160H180v160Zm220 220h160v-160H400v160Zm0 220h160v-160H400v160ZM180-400h160v-160H180v160Zm440 0h160v-160H620v160ZM180-180h160v-160H180v160Zm440 0h160v-160H620v160Z\"/>\n",
              "  </svg>\n",
              "    </button>\n",
              "\n",
              "  <style>\n",
              "    .colab-df-container {\n",
              "      display:flex;\n",
              "      gap: 12px;\n",
              "    }\n",
              "\n",
              "    .colab-df-convert {\n",
              "      background-color: #E8F0FE;\n",
              "      border: none;\n",
              "      border-radius: 50%;\n",
              "      cursor: pointer;\n",
              "      display: none;\n",
              "      fill: #1967D2;\n",
              "      height: 32px;\n",
              "      padding: 0 0 0 0;\n",
              "      width: 32px;\n",
              "    }\n",
              "\n",
              "    .colab-df-convert:hover {\n",
              "      background-color: #E2EBFA;\n",
              "      box-shadow: 0px 1px 2px rgba(60, 64, 67, 0.3), 0px 1px 3px 1px rgba(60, 64, 67, 0.15);\n",
              "      fill: #174EA6;\n",
              "    }\n",
              "\n",
              "    .colab-df-buttons div {\n",
              "      margin-bottom: 4px;\n",
              "    }\n",
              "\n",
              "    [theme=dark] .colab-df-convert {\n",
              "      background-color: #3B4455;\n",
              "      fill: #D2E3FC;\n",
              "    }\n",
              "\n",
              "    [theme=dark] .colab-df-convert:hover {\n",
              "      background-color: #434B5C;\n",
              "      box-shadow: 0px 1px 3px 1px rgba(0, 0, 0, 0.15);\n",
              "      filter: drop-shadow(0px 1px 2px rgba(0, 0, 0, 0.3));\n",
              "      fill: #FFFFFF;\n",
              "    }\n",
              "  </style>\n",
              "\n",
              "    <script>\n",
              "      const buttonEl =\n",
              "        document.querySelector('#df-2ce4a202-2be8-4daf-86c7-2870612ab77b button.colab-df-convert');\n",
              "      buttonEl.style.display =\n",
              "        google.colab.kernel.accessAllowed ? 'block' : 'none';\n",
              "\n",
              "      async function convertToInteractive(key) {\n",
              "        const element = document.querySelector('#df-2ce4a202-2be8-4daf-86c7-2870612ab77b');\n",
              "        const dataTable =\n",
              "          await google.colab.kernel.invokeFunction('convertToInteractive',\n",
              "                                                    [key], {});\n",
              "        if (!dataTable) return;\n",
              "\n",
              "        const docLinkHtml = 'Like what you see? Visit the ' +\n",
              "          '<a target=\"_blank\" href=https://colab.research.google.com/notebooks/data_table.ipynb>data table notebook</a>'\n",
              "          + ' to learn more about interactive tables.';\n",
              "        element.innerHTML = '';\n",
              "        dataTable['output_type'] = 'display_data';\n",
              "        await google.colab.output.renderOutput(dataTable, element);\n",
              "        const docLink = document.createElement('div');\n",
              "        docLink.innerHTML = docLinkHtml;\n",
              "        element.appendChild(docLink);\n",
              "      }\n",
              "    </script>\n",
              "  </div>\n",
              "\n",
              "\n",
              "<div id=\"df-77e6496b-3b8a-4f98-a059-2a63d1ed4d0b\">\n",
              "  <button class=\"colab-df-quickchart\" onclick=\"quickchart('df-77e6496b-3b8a-4f98-a059-2a63d1ed4d0b')\"\n",
              "            title=\"Suggest charts\"\n",
              "            style=\"display:none;\">\n",
              "\n",
              "<svg xmlns=\"http://www.w3.org/2000/svg\" height=\"24px\"viewBox=\"0 0 24 24\"\n",
              "     width=\"24px\">\n",
              "    <g>\n",
              "        <path d=\"M19 3H5c-1.1 0-2 .9-2 2v14c0 1.1.9 2 2 2h14c1.1 0 2-.9 2-2V5c0-1.1-.9-2-2-2zM9 17H7v-7h2v7zm4 0h-2V7h2v10zm4 0h-2v-4h2v4z\"/>\n",
              "    </g>\n",
              "</svg>\n",
              "  </button>\n",
              "\n",
              "<style>\n",
              "  .colab-df-quickchart {\n",
              "      --bg-color: #E8F0FE;\n",
              "      --fill-color: #1967D2;\n",
              "      --hover-bg-color: #E2EBFA;\n",
              "      --hover-fill-color: #174EA6;\n",
              "      --disabled-fill-color: #AAA;\n",
              "      --disabled-bg-color: #DDD;\n",
              "  }\n",
              "\n",
              "  [theme=dark] .colab-df-quickchart {\n",
              "      --bg-color: #3B4455;\n",
              "      --fill-color: #D2E3FC;\n",
              "      --hover-bg-color: #434B5C;\n",
              "      --hover-fill-color: #FFFFFF;\n",
              "      --disabled-bg-color: #3B4455;\n",
              "      --disabled-fill-color: #666;\n",
              "  }\n",
              "\n",
              "  .colab-df-quickchart {\n",
              "    background-color: var(--bg-color);\n",
              "    border: none;\n",
              "    border-radius: 50%;\n",
              "    cursor: pointer;\n",
              "    display: none;\n",
              "    fill: var(--fill-color);\n",
              "    height: 32px;\n",
              "    padding: 0;\n",
              "    width: 32px;\n",
              "  }\n",
              "\n",
              "  .colab-df-quickchart:hover {\n",
              "    background-color: var(--hover-bg-color);\n",
              "    box-shadow: 0 1px 2px rgba(60, 64, 67, 0.3), 0 1px 3px 1px rgba(60, 64, 67, 0.15);\n",
              "    fill: var(--button-hover-fill-color);\n",
              "  }\n",
              "\n",
              "  .colab-df-quickchart-complete:disabled,\n",
              "  .colab-df-quickchart-complete:disabled:hover {\n",
              "    background-color: var(--disabled-bg-color);\n",
              "    fill: var(--disabled-fill-color);\n",
              "    box-shadow: none;\n",
              "  }\n",
              "\n",
              "  .colab-df-spinner {\n",
              "    border: 2px solid var(--fill-color);\n",
              "    border-color: transparent;\n",
              "    border-bottom-color: var(--fill-color);\n",
              "    animation:\n",
              "      spin 1s steps(1) infinite;\n",
              "  }\n",
              "\n",
              "  @keyframes spin {\n",
              "    0% {\n",
              "      border-color: transparent;\n",
              "      border-bottom-color: var(--fill-color);\n",
              "      border-left-color: var(--fill-color);\n",
              "    }\n",
              "    20% {\n",
              "      border-color: transparent;\n",
              "      border-left-color: var(--fill-color);\n",
              "      border-top-color: var(--fill-color);\n",
              "    }\n",
              "    30% {\n",
              "      border-color: transparent;\n",
              "      border-left-color: var(--fill-color);\n",
              "      border-top-color: var(--fill-color);\n",
              "      border-right-color: var(--fill-color);\n",
              "    }\n",
              "    40% {\n",
              "      border-color: transparent;\n",
              "      border-right-color: var(--fill-color);\n",
              "      border-top-color: var(--fill-color);\n",
              "    }\n",
              "    60% {\n",
              "      border-color: transparent;\n",
              "      border-right-color: var(--fill-color);\n",
              "    }\n",
              "    80% {\n",
              "      border-color: transparent;\n",
              "      border-right-color: var(--fill-color);\n",
              "      border-bottom-color: var(--fill-color);\n",
              "    }\n",
              "    90% {\n",
              "      border-color: transparent;\n",
              "      border-bottom-color: var(--fill-color);\n",
              "    }\n",
              "  }\n",
              "</style>\n",
              "\n",
              "  <script>\n",
              "    async function quickchart(key) {\n",
              "      const quickchartButtonEl =\n",
              "        document.querySelector('#' + key + ' button');\n",
              "      quickchartButtonEl.disabled = true;  // To prevent multiple clicks.\n",
              "      quickchartButtonEl.classList.add('colab-df-spinner');\n",
              "      try {\n",
              "        const charts = await google.colab.kernel.invokeFunction(\n",
              "            'suggestCharts', [key], {});\n",
              "      } catch (error) {\n",
              "        console.error('Error during call to suggestCharts:', error);\n",
              "      }\n",
              "      quickchartButtonEl.classList.remove('colab-df-spinner');\n",
              "      quickchartButtonEl.classList.add('colab-df-quickchart-complete');\n",
              "    }\n",
              "    (() => {\n",
              "      let quickchartButtonEl =\n",
              "        document.querySelector('#df-77e6496b-3b8a-4f98-a059-2a63d1ed4d0b button');\n",
              "      quickchartButtonEl.style.display =\n",
              "        google.colab.kernel.accessAllowed ? 'block' : 'none';\n",
              "    })();\n",
              "  </script>\n",
              "</div>\n",
              "    </div>\n",
              "  </div>\n"
            ],
            "text/plain": [
              "     x1   x2    y\n",
              "0   0.5  1.0  1.1\n",
              "1   1.0  1.2  1.2\n",
              "2   2.0  2.0  1.9\n",
              "3   2.5  2.0  2.0\n",
              "4   8.0  1.0  4.0\n",
              "5   9.0  2.0  4.5\n",
              "6   1.0  8.5  6.0\n",
              "7   8.1  9.0  8.1\n",
              "8   9.0  8.2  8.2\n",
              "9   8.7  9.2  8.1\n",
              "10  9.5  9.5  8.3"
            ]
          },
          "execution_count": 6,
          "metadata": {},
          "output_type": "execute_result"
        }
      ],
      "source": [
        "# чтение обучающей выборки\n",
        "data_train = pd.read_csv('knn_sample_data_train.csv', sep=\";\")\n",
        "data_train"
      ]
    },
    {
      "cell_type": "markdown",
      "metadata": {
        "id": "1E5VBILmtai6"
      },
      "source": [
        "Целевой признак $y$ предназначен для регресии. Построим на его основе  признак для классификации."
      ]
    },
    {
      "cell_type": "code",
      "execution_count": null,
      "metadata": {
        "id": "jCIpt4K7tai7"
      },
      "outputs": [],
      "source": [
        "def regr_to_class(y: float) -> str:\n",
        "    if y<3:\n",
        "        result = 'A'\n",
        "    elif y<5:\n",
        "        result = 'B'\n",
        "    elif y<7:\n",
        "        result = 'C'\n",
        "    else:\n",
        "        result = 'D'\n",
        "    return result"
      ]
    },
    {
      "cell_type": "code",
      "execution_count": null,
      "metadata": {
        "id": "dN8m_ywftai7"
      },
      "outputs": [],
      "source": [
        "# формирование второго целевого признака для классификации\n",
        "data_train['y_clas'] = \\\n",
        "data_train.apply(lambda row: regr_to_class(row['y']),axis=1)"
      ]
    },
    {
      "cell_type": "code",
      "execution_count": null,
      "metadata": {
        "colab": {
          "base_uri": "https://localhost:8080/",
          "height": 394
        },
        "id": "GyScx8APtai7",
        "outputId": "e9993fd5-7dcd-4a68-ce91-bea86f437a61"
      },
      "outputs": [
        {
          "data": {
            "application/vnd.google.colaboratory.intrinsic+json": {
              "summary": "{\n  \"name\": \"data_train\",\n  \"rows\": 11,\n  \"fields\": [\n    {\n      \"column\": \"x1\",\n      \"properties\": {\n        \"dtype\": \"number\",\n        \"std\": 3.877745361793254,\n        \"min\": 0.5,\n        \"max\": 9.5,\n        \"num_unique_values\": 9,\n        \"samples\": [\n          8.7,\n          1.0,\n          9.0\n        ],\n        \"semantic_type\": \"\",\n        \"description\": \"\"\n      }\n    },\n    {\n      \"column\": \"x2\",\n      \"properties\": {\n        \"dtype\": \"number\",\n        \"std\": 3.8683564750655823,\n        \"min\": 1.0,\n        \"max\": 9.5,\n        \"num_unique_values\": 8,\n        \"samples\": [\n          1.2,\n          8.2,\n          1.0\n        ],\n        \"semantic_type\": \"\",\n        \"description\": \"\"\n      }\n    },\n    {\n      \"column\": \"y\",\n      \"properties\": {\n        \"dtype\": \"number\",\n        \"std\": 3.0104363924068007,\n        \"min\": 1.1,\n        \"max\": 8.3,\n        \"num_unique_values\": 10,\n        \"samples\": [\n          8.2,\n          1.2,\n          4.5\n        ],\n        \"semantic_type\": \"\",\n        \"description\": \"\"\n      }\n    },\n    {\n      \"column\": \"y_clas\",\n      \"properties\": {\n        \"dtype\": \"category\",\n        \"num_unique_values\": 4,\n        \"samples\": [\n          \"B\",\n          \"D\",\n          \"A\"\n        ],\n        \"semantic_type\": \"\",\n        \"description\": \"\"\n      }\n    }\n  ]\n}",
              "type": "dataframe",
              "variable_name": "data_train"
            },
            "text/html": [
              "\n",
              "  <div id=\"df-bfb171a7-6c27-449a-b5ff-ec40be1acd62\" class=\"colab-df-container\">\n",
              "    <div>\n",
              "<style scoped>\n",
              "    .dataframe tbody tr th:only-of-type {\n",
              "        vertical-align: middle;\n",
              "    }\n",
              "\n",
              "    .dataframe tbody tr th {\n",
              "        vertical-align: top;\n",
              "    }\n",
              "\n",
              "    .dataframe thead th {\n",
              "        text-align: right;\n",
              "    }\n",
              "</style>\n",
              "<table border=\"1\" class=\"dataframe\">\n",
              "  <thead>\n",
              "    <tr style=\"text-align: right;\">\n",
              "      <th></th>\n",
              "      <th>x1</th>\n",
              "      <th>x2</th>\n",
              "      <th>y</th>\n",
              "      <th>y_clas</th>\n",
              "    </tr>\n",
              "  </thead>\n",
              "  <tbody>\n",
              "    <tr>\n",
              "      <th>0</th>\n",
              "      <td>0.5</td>\n",
              "      <td>1.0</td>\n",
              "      <td>1.1</td>\n",
              "      <td>A</td>\n",
              "    </tr>\n",
              "    <tr>\n",
              "      <th>1</th>\n",
              "      <td>1.0</td>\n",
              "      <td>1.2</td>\n",
              "      <td>1.2</td>\n",
              "      <td>A</td>\n",
              "    </tr>\n",
              "    <tr>\n",
              "      <th>2</th>\n",
              "      <td>2.0</td>\n",
              "      <td>2.0</td>\n",
              "      <td>1.9</td>\n",
              "      <td>A</td>\n",
              "    </tr>\n",
              "    <tr>\n",
              "      <th>3</th>\n",
              "      <td>2.5</td>\n",
              "      <td>2.0</td>\n",
              "      <td>2.0</td>\n",
              "      <td>A</td>\n",
              "    </tr>\n",
              "    <tr>\n",
              "      <th>4</th>\n",
              "      <td>8.0</td>\n",
              "      <td>1.0</td>\n",
              "      <td>4.0</td>\n",
              "      <td>B</td>\n",
              "    </tr>\n",
              "    <tr>\n",
              "      <th>5</th>\n",
              "      <td>9.0</td>\n",
              "      <td>2.0</td>\n",
              "      <td>4.5</td>\n",
              "      <td>B</td>\n",
              "    </tr>\n",
              "    <tr>\n",
              "      <th>6</th>\n",
              "      <td>1.0</td>\n",
              "      <td>8.5</td>\n",
              "      <td>6.0</td>\n",
              "      <td>C</td>\n",
              "    </tr>\n",
              "    <tr>\n",
              "      <th>7</th>\n",
              "      <td>8.1</td>\n",
              "      <td>9.0</td>\n",
              "      <td>8.1</td>\n",
              "      <td>D</td>\n",
              "    </tr>\n",
              "    <tr>\n",
              "      <th>8</th>\n",
              "      <td>9.0</td>\n",
              "      <td>8.2</td>\n",
              "      <td>8.2</td>\n",
              "      <td>D</td>\n",
              "    </tr>\n",
              "    <tr>\n",
              "      <th>9</th>\n",
              "      <td>8.7</td>\n",
              "      <td>9.2</td>\n",
              "      <td>8.1</td>\n",
              "      <td>D</td>\n",
              "    </tr>\n",
              "    <tr>\n",
              "      <th>10</th>\n",
              "      <td>9.5</td>\n",
              "      <td>9.5</td>\n",
              "      <td>8.3</td>\n",
              "      <td>D</td>\n",
              "    </tr>\n",
              "  </tbody>\n",
              "</table>\n",
              "</div>\n",
              "    <div class=\"colab-df-buttons\">\n",
              "\n",
              "  <div class=\"colab-df-container\">\n",
              "    <button class=\"colab-df-convert\" onclick=\"convertToInteractive('df-bfb171a7-6c27-449a-b5ff-ec40be1acd62')\"\n",
              "            title=\"Convert this dataframe to an interactive table.\"\n",
              "            style=\"display:none;\">\n",
              "\n",
              "  <svg xmlns=\"http://www.w3.org/2000/svg\" height=\"24px\" viewBox=\"0 -960 960 960\">\n",
              "    <path d=\"M120-120v-720h720v720H120Zm60-500h600v-160H180v160Zm220 220h160v-160H400v160Zm0 220h160v-160H400v160ZM180-400h160v-160H180v160Zm440 0h160v-160H620v160ZM180-180h160v-160H180v160Zm440 0h160v-160H620v160Z\"/>\n",
              "  </svg>\n",
              "    </button>\n",
              "\n",
              "  <style>\n",
              "    .colab-df-container {\n",
              "      display:flex;\n",
              "      gap: 12px;\n",
              "    }\n",
              "\n",
              "    .colab-df-convert {\n",
              "      background-color: #E8F0FE;\n",
              "      border: none;\n",
              "      border-radius: 50%;\n",
              "      cursor: pointer;\n",
              "      display: none;\n",
              "      fill: #1967D2;\n",
              "      height: 32px;\n",
              "      padding: 0 0 0 0;\n",
              "      width: 32px;\n",
              "    }\n",
              "\n",
              "    .colab-df-convert:hover {\n",
              "      background-color: #E2EBFA;\n",
              "      box-shadow: 0px 1px 2px rgba(60, 64, 67, 0.3), 0px 1px 3px 1px rgba(60, 64, 67, 0.15);\n",
              "      fill: #174EA6;\n",
              "    }\n",
              "\n",
              "    .colab-df-buttons div {\n",
              "      margin-bottom: 4px;\n",
              "    }\n",
              "\n",
              "    [theme=dark] .colab-df-convert {\n",
              "      background-color: #3B4455;\n",
              "      fill: #D2E3FC;\n",
              "    }\n",
              "\n",
              "    [theme=dark] .colab-df-convert:hover {\n",
              "      background-color: #434B5C;\n",
              "      box-shadow: 0px 1px 3px 1px rgba(0, 0, 0, 0.15);\n",
              "      filter: drop-shadow(0px 1px 2px rgba(0, 0, 0, 0.3));\n",
              "      fill: #FFFFFF;\n",
              "    }\n",
              "  </style>\n",
              "\n",
              "    <script>\n",
              "      const buttonEl =\n",
              "        document.querySelector('#df-bfb171a7-6c27-449a-b5ff-ec40be1acd62 button.colab-df-convert');\n",
              "      buttonEl.style.display =\n",
              "        google.colab.kernel.accessAllowed ? 'block' : 'none';\n",
              "\n",
              "      async function convertToInteractive(key) {\n",
              "        const element = document.querySelector('#df-bfb171a7-6c27-449a-b5ff-ec40be1acd62');\n",
              "        const dataTable =\n",
              "          await google.colab.kernel.invokeFunction('convertToInteractive',\n",
              "                                                    [key], {});\n",
              "        if (!dataTable) return;\n",
              "\n",
              "        const docLinkHtml = 'Like what you see? Visit the ' +\n",
              "          '<a target=\"_blank\" href=https://colab.research.google.com/notebooks/data_table.ipynb>data table notebook</a>'\n",
              "          + ' to learn more about interactive tables.';\n",
              "        element.innerHTML = '';\n",
              "        dataTable['output_type'] = 'display_data';\n",
              "        await google.colab.output.renderOutput(dataTable, element);\n",
              "        const docLink = document.createElement('div');\n",
              "        docLink.innerHTML = docLinkHtml;\n",
              "        element.appendChild(docLink);\n",
              "      }\n",
              "    </script>\n",
              "  </div>\n",
              "\n",
              "\n",
              "<div id=\"df-17816871-4124-4737-b7fd-5472d69d64fb\">\n",
              "  <button class=\"colab-df-quickchart\" onclick=\"quickchart('df-17816871-4124-4737-b7fd-5472d69d64fb')\"\n",
              "            title=\"Suggest charts\"\n",
              "            style=\"display:none;\">\n",
              "\n",
              "<svg xmlns=\"http://www.w3.org/2000/svg\" height=\"24px\"viewBox=\"0 0 24 24\"\n",
              "     width=\"24px\">\n",
              "    <g>\n",
              "        <path d=\"M19 3H5c-1.1 0-2 .9-2 2v14c0 1.1.9 2 2 2h14c1.1 0 2-.9 2-2V5c0-1.1-.9-2-2-2zM9 17H7v-7h2v7zm4 0h-2V7h2v10zm4 0h-2v-4h2v4z\"/>\n",
              "    </g>\n",
              "</svg>\n",
              "  </button>\n",
              "\n",
              "<style>\n",
              "  .colab-df-quickchart {\n",
              "      --bg-color: #E8F0FE;\n",
              "      --fill-color: #1967D2;\n",
              "      --hover-bg-color: #E2EBFA;\n",
              "      --hover-fill-color: #174EA6;\n",
              "      --disabled-fill-color: #AAA;\n",
              "      --disabled-bg-color: #DDD;\n",
              "  }\n",
              "\n",
              "  [theme=dark] .colab-df-quickchart {\n",
              "      --bg-color: #3B4455;\n",
              "      --fill-color: #D2E3FC;\n",
              "      --hover-bg-color: #434B5C;\n",
              "      --hover-fill-color: #FFFFFF;\n",
              "      --disabled-bg-color: #3B4455;\n",
              "      --disabled-fill-color: #666;\n",
              "  }\n",
              "\n",
              "  .colab-df-quickchart {\n",
              "    background-color: var(--bg-color);\n",
              "    border: none;\n",
              "    border-radius: 50%;\n",
              "    cursor: pointer;\n",
              "    display: none;\n",
              "    fill: var(--fill-color);\n",
              "    height: 32px;\n",
              "    padding: 0;\n",
              "    width: 32px;\n",
              "  }\n",
              "\n",
              "  .colab-df-quickchart:hover {\n",
              "    background-color: var(--hover-bg-color);\n",
              "    box-shadow: 0 1px 2px rgba(60, 64, 67, 0.3), 0 1px 3px 1px rgba(60, 64, 67, 0.15);\n",
              "    fill: var(--button-hover-fill-color);\n",
              "  }\n",
              "\n",
              "  .colab-df-quickchart-complete:disabled,\n",
              "  .colab-df-quickchart-complete:disabled:hover {\n",
              "    background-color: var(--disabled-bg-color);\n",
              "    fill: var(--disabled-fill-color);\n",
              "    box-shadow: none;\n",
              "  }\n",
              "\n",
              "  .colab-df-spinner {\n",
              "    border: 2px solid var(--fill-color);\n",
              "    border-color: transparent;\n",
              "    border-bottom-color: var(--fill-color);\n",
              "    animation:\n",
              "      spin 1s steps(1) infinite;\n",
              "  }\n",
              "\n",
              "  @keyframes spin {\n",
              "    0% {\n",
              "      border-color: transparent;\n",
              "      border-bottom-color: var(--fill-color);\n",
              "      border-left-color: var(--fill-color);\n",
              "    }\n",
              "    20% {\n",
              "      border-color: transparent;\n",
              "      border-left-color: var(--fill-color);\n",
              "      border-top-color: var(--fill-color);\n",
              "    }\n",
              "    30% {\n",
              "      border-color: transparent;\n",
              "      border-left-color: var(--fill-color);\n",
              "      border-top-color: var(--fill-color);\n",
              "      border-right-color: var(--fill-color);\n",
              "    }\n",
              "    40% {\n",
              "      border-color: transparent;\n",
              "      border-right-color: var(--fill-color);\n",
              "      border-top-color: var(--fill-color);\n",
              "    }\n",
              "    60% {\n",
              "      border-color: transparent;\n",
              "      border-right-color: var(--fill-color);\n",
              "    }\n",
              "    80% {\n",
              "      border-color: transparent;\n",
              "      border-right-color: var(--fill-color);\n",
              "      border-bottom-color: var(--fill-color);\n",
              "    }\n",
              "    90% {\n",
              "      border-color: transparent;\n",
              "      border-bottom-color: var(--fill-color);\n",
              "    }\n",
              "  }\n",
              "</style>\n",
              "\n",
              "  <script>\n",
              "    async function quickchart(key) {\n",
              "      const quickchartButtonEl =\n",
              "        document.querySelector('#' + key + ' button');\n",
              "      quickchartButtonEl.disabled = true;  // To prevent multiple clicks.\n",
              "      quickchartButtonEl.classList.add('colab-df-spinner');\n",
              "      try {\n",
              "        const charts = await google.colab.kernel.invokeFunction(\n",
              "            'suggestCharts', [key], {});\n",
              "      } catch (error) {\n",
              "        console.error('Error during call to suggestCharts:', error);\n",
              "      }\n",
              "      quickchartButtonEl.classList.remove('colab-df-spinner');\n",
              "      quickchartButtonEl.classList.add('colab-df-quickchart-complete');\n",
              "    }\n",
              "    (() => {\n",
              "      let quickchartButtonEl =\n",
              "        document.querySelector('#df-17816871-4124-4737-b7fd-5472d69d64fb button');\n",
              "      quickchartButtonEl.style.display =\n",
              "        google.colab.kernel.accessAllowed ? 'block' : 'none';\n",
              "    })();\n",
              "  </script>\n",
              "</div>\n",
              "    </div>\n",
              "  </div>\n"
            ],
            "text/plain": [
              "     x1   x2    y y_clas\n",
              "0   0.5  1.0  1.1      A\n",
              "1   1.0  1.2  1.2      A\n",
              "2   2.0  2.0  1.9      A\n",
              "3   2.5  2.0  2.0      A\n",
              "4   8.0  1.0  4.0      B\n",
              "5   9.0  2.0  4.5      B\n",
              "6   1.0  8.5  6.0      C\n",
              "7   8.1  9.0  8.1      D\n",
              "8   9.0  8.2  8.2      D\n",
              "9   8.7  9.2  8.1      D\n",
              "10  9.5  9.5  8.3      D"
            ]
          },
          "execution_count": 9,
          "metadata": {},
          "output_type": "execute_result"
        }
      ],
      "source": [
        "data_train"
      ]
    },
    {
      "cell_type": "code",
      "execution_count": null,
      "metadata": {
        "id": "MgHes5UAtai7"
      },
      "outputs": [],
      "source": [
        "# чтение тестовой выборки\n",
        "data_test = pd.read_csv('knn_sample_data_test.csv', sep=\";\")"
      ]
    },
    {
      "cell_type": "code",
      "execution_count": null,
      "metadata": {
        "colab": {
          "base_uri": "https://localhost:8080/",
          "height": 175
        },
        "id": "qNn5IyWBtai7",
        "outputId": "89053450-b015-4e18-a6ef-b9e375b05925"
      },
      "outputs": [
        {
          "data": {
            "application/vnd.google.colaboratory.intrinsic+json": {
              "summary": "{\n  \"name\": \"data_test\",\n  \"rows\": 4,\n  \"fields\": [\n    {\n      \"column\": \"x1\",\n      \"properties\": {\n        \"dtype\": \"number\",\n        \"std\": 3.4847285881877994,\n        \"min\": 1.7,\n        \"max\": 8.5,\n        \"num_unique_values\": 3,\n        \"samples\": [\n          1.7,\n          3.5,\n          8.5\n        ],\n        \"semantic_type\": \"\",\n        \"description\": \"\"\n      }\n    },\n    {\n      \"column\": \"x2\",\n      \"properties\": {\n        \"dtype\": \"number\",\n        \"std\": 3.6040486493201875,\n        \"min\": 1.5,\n        \"max\": 8.5,\n        \"num_unique_values\": 4,\n        \"samples\": [\n          7.0,\n          8.5,\n          1.7\n        ],\n        \"semantic_type\": \"\",\n        \"description\": \"\"\n      }\n    }\n  ]\n}",
              "type": "dataframe",
              "variable_name": "data_test"
            },
            "text/html": [
              "\n",
              "  <div id=\"df-3be271cf-2cff-4f4e-868f-f059383cdea2\" class=\"colab-df-container\">\n",
              "    <div>\n",
              "<style scoped>\n",
              "    .dataframe tbody tr th:only-of-type {\n",
              "        vertical-align: middle;\n",
              "    }\n",
              "\n",
              "    .dataframe tbody tr th {\n",
              "        vertical-align: top;\n",
              "    }\n",
              "\n",
              "    .dataframe thead th {\n",
              "        text-align: right;\n",
              "    }\n",
              "</style>\n",
              "<table border=\"1\" class=\"dataframe\">\n",
              "  <thead>\n",
              "    <tr style=\"text-align: right;\">\n",
              "      <th></th>\n",
              "      <th>x1</th>\n",
              "      <th>x2</th>\n",
              "    </tr>\n",
              "  </thead>\n",
              "  <tbody>\n",
              "    <tr>\n",
              "      <th>0</th>\n",
              "      <td>1.7</td>\n",
              "      <td>1.7</td>\n",
              "    </tr>\n",
              "    <tr>\n",
              "      <th>1</th>\n",
              "      <td>3.5</td>\n",
              "      <td>7.0</td>\n",
              "    </tr>\n",
              "    <tr>\n",
              "      <th>2</th>\n",
              "      <td>8.5</td>\n",
              "      <td>1.5</td>\n",
              "    </tr>\n",
              "    <tr>\n",
              "      <th>3</th>\n",
              "      <td>8.5</td>\n",
              "      <td>8.5</td>\n",
              "    </tr>\n",
              "  </tbody>\n",
              "</table>\n",
              "</div>\n",
              "    <div class=\"colab-df-buttons\">\n",
              "\n",
              "  <div class=\"colab-df-container\">\n",
              "    <button class=\"colab-df-convert\" onclick=\"convertToInteractive('df-3be271cf-2cff-4f4e-868f-f059383cdea2')\"\n",
              "            title=\"Convert this dataframe to an interactive table.\"\n",
              "            style=\"display:none;\">\n",
              "\n",
              "  <svg xmlns=\"http://www.w3.org/2000/svg\" height=\"24px\" viewBox=\"0 -960 960 960\">\n",
              "    <path d=\"M120-120v-720h720v720H120Zm60-500h600v-160H180v160Zm220 220h160v-160H400v160Zm0 220h160v-160H400v160ZM180-400h160v-160H180v160Zm440 0h160v-160H620v160ZM180-180h160v-160H180v160Zm440 0h160v-160H620v160Z\"/>\n",
              "  </svg>\n",
              "    </button>\n",
              "\n",
              "  <style>\n",
              "    .colab-df-container {\n",
              "      display:flex;\n",
              "      gap: 12px;\n",
              "    }\n",
              "\n",
              "    .colab-df-convert {\n",
              "      background-color: #E8F0FE;\n",
              "      border: none;\n",
              "      border-radius: 50%;\n",
              "      cursor: pointer;\n",
              "      display: none;\n",
              "      fill: #1967D2;\n",
              "      height: 32px;\n",
              "      padding: 0 0 0 0;\n",
              "      width: 32px;\n",
              "    }\n",
              "\n",
              "    .colab-df-convert:hover {\n",
              "      background-color: #E2EBFA;\n",
              "      box-shadow: 0px 1px 2px rgba(60, 64, 67, 0.3), 0px 1px 3px 1px rgba(60, 64, 67, 0.15);\n",
              "      fill: #174EA6;\n",
              "    }\n",
              "\n",
              "    .colab-df-buttons div {\n",
              "      margin-bottom: 4px;\n",
              "    }\n",
              "\n",
              "    [theme=dark] .colab-df-convert {\n",
              "      background-color: #3B4455;\n",
              "      fill: #D2E3FC;\n",
              "    }\n",
              "\n",
              "    [theme=dark] .colab-df-convert:hover {\n",
              "      background-color: #434B5C;\n",
              "      box-shadow: 0px 1px 3px 1px rgba(0, 0, 0, 0.15);\n",
              "      filter: drop-shadow(0px 1px 2px rgba(0, 0, 0, 0.3));\n",
              "      fill: #FFFFFF;\n",
              "    }\n",
              "  </style>\n",
              "\n",
              "    <script>\n",
              "      const buttonEl =\n",
              "        document.querySelector('#df-3be271cf-2cff-4f4e-868f-f059383cdea2 button.colab-df-convert');\n",
              "      buttonEl.style.display =\n",
              "        google.colab.kernel.accessAllowed ? 'block' : 'none';\n",
              "\n",
              "      async function convertToInteractive(key) {\n",
              "        const element = document.querySelector('#df-3be271cf-2cff-4f4e-868f-f059383cdea2');\n",
              "        const dataTable =\n",
              "          await google.colab.kernel.invokeFunction('convertToInteractive',\n",
              "                                                    [key], {});\n",
              "        if (!dataTable) return;\n",
              "\n",
              "        const docLinkHtml = 'Like what you see? Visit the ' +\n",
              "          '<a target=\"_blank\" href=https://colab.research.google.com/notebooks/data_table.ipynb>data table notebook</a>'\n",
              "          + ' to learn more about interactive tables.';\n",
              "        element.innerHTML = '';\n",
              "        dataTable['output_type'] = 'display_data';\n",
              "        await google.colab.output.renderOutput(dataTable, element);\n",
              "        const docLink = document.createElement('div');\n",
              "        docLink.innerHTML = docLinkHtml;\n",
              "        element.appendChild(docLink);\n",
              "      }\n",
              "    </script>\n",
              "  </div>\n",
              "\n",
              "\n",
              "<div id=\"df-03b8a043-17a1-4860-99a5-f20075881005\">\n",
              "  <button class=\"colab-df-quickchart\" onclick=\"quickchart('df-03b8a043-17a1-4860-99a5-f20075881005')\"\n",
              "            title=\"Suggest charts\"\n",
              "            style=\"display:none;\">\n",
              "\n",
              "<svg xmlns=\"http://www.w3.org/2000/svg\" height=\"24px\"viewBox=\"0 0 24 24\"\n",
              "     width=\"24px\">\n",
              "    <g>\n",
              "        <path d=\"M19 3H5c-1.1 0-2 .9-2 2v14c0 1.1.9 2 2 2h14c1.1 0 2-.9 2-2V5c0-1.1-.9-2-2-2zM9 17H7v-7h2v7zm4 0h-2V7h2v10zm4 0h-2v-4h2v4z\"/>\n",
              "    </g>\n",
              "</svg>\n",
              "  </button>\n",
              "\n",
              "<style>\n",
              "  .colab-df-quickchart {\n",
              "      --bg-color: #E8F0FE;\n",
              "      --fill-color: #1967D2;\n",
              "      --hover-bg-color: #E2EBFA;\n",
              "      --hover-fill-color: #174EA6;\n",
              "      --disabled-fill-color: #AAA;\n",
              "      --disabled-bg-color: #DDD;\n",
              "  }\n",
              "\n",
              "  [theme=dark] .colab-df-quickchart {\n",
              "      --bg-color: #3B4455;\n",
              "      --fill-color: #D2E3FC;\n",
              "      --hover-bg-color: #434B5C;\n",
              "      --hover-fill-color: #FFFFFF;\n",
              "      --disabled-bg-color: #3B4455;\n",
              "      --disabled-fill-color: #666;\n",
              "  }\n",
              "\n",
              "  .colab-df-quickchart {\n",
              "    background-color: var(--bg-color);\n",
              "    border: none;\n",
              "    border-radius: 50%;\n",
              "    cursor: pointer;\n",
              "    display: none;\n",
              "    fill: var(--fill-color);\n",
              "    height: 32px;\n",
              "    padding: 0;\n",
              "    width: 32px;\n",
              "  }\n",
              "\n",
              "  .colab-df-quickchart:hover {\n",
              "    background-color: var(--hover-bg-color);\n",
              "    box-shadow: 0 1px 2px rgba(60, 64, 67, 0.3), 0 1px 3px 1px rgba(60, 64, 67, 0.15);\n",
              "    fill: var(--button-hover-fill-color);\n",
              "  }\n",
              "\n",
              "  .colab-df-quickchart-complete:disabled,\n",
              "  .colab-df-quickchart-complete:disabled:hover {\n",
              "    background-color: var(--disabled-bg-color);\n",
              "    fill: var(--disabled-fill-color);\n",
              "    box-shadow: none;\n",
              "  }\n",
              "\n",
              "  .colab-df-spinner {\n",
              "    border: 2px solid var(--fill-color);\n",
              "    border-color: transparent;\n",
              "    border-bottom-color: var(--fill-color);\n",
              "    animation:\n",
              "      spin 1s steps(1) infinite;\n",
              "  }\n",
              "\n",
              "  @keyframes spin {\n",
              "    0% {\n",
              "      border-color: transparent;\n",
              "      border-bottom-color: var(--fill-color);\n",
              "      border-left-color: var(--fill-color);\n",
              "    }\n",
              "    20% {\n",
              "      border-color: transparent;\n",
              "      border-left-color: var(--fill-color);\n",
              "      border-top-color: var(--fill-color);\n",
              "    }\n",
              "    30% {\n",
              "      border-color: transparent;\n",
              "      border-left-color: var(--fill-color);\n",
              "      border-top-color: var(--fill-color);\n",
              "      border-right-color: var(--fill-color);\n",
              "    }\n",
              "    40% {\n",
              "      border-color: transparent;\n",
              "      border-right-color: var(--fill-color);\n",
              "      border-top-color: var(--fill-color);\n",
              "    }\n",
              "    60% {\n",
              "      border-color: transparent;\n",
              "      border-right-color: var(--fill-color);\n",
              "    }\n",
              "    80% {\n",
              "      border-color: transparent;\n",
              "      border-right-color: var(--fill-color);\n",
              "      border-bottom-color: var(--fill-color);\n",
              "    }\n",
              "    90% {\n",
              "      border-color: transparent;\n",
              "      border-bottom-color: var(--fill-color);\n",
              "    }\n",
              "  }\n",
              "</style>\n",
              "\n",
              "  <script>\n",
              "    async function quickchart(key) {\n",
              "      const quickchartButtonEl =\n",
              "        document.querySelector('#' + key + ' button');\n",
              "      quickchartButtonEl.disabled = true;  // To prevent multiple clicks.\n",
              "      quickchartButtonEl.classList.add('colab-df-spinner');\n",
              "      try {\n",
              "        const charts = await google.colab.kernel.invokeFunction(\n",
              "            'suggestCharts', [key], {});\n",
              "      } catch (error) {\n",
              "        console.error('Error during call to suggestCharts:', error);\n",
              "      }\n",
              "      quickchartButtonEl.classList.remove('colab-df-spinner');\n",
              "      quickchartButtonEl.classList.add('colab-df-quickchart-complete');\n",
              "    }\n",
              "    (() => {\n",
              "      let quickchartButtonEl =\n",
              "        document.querySelector('#df-03b8a043-17a1-4860-99a5-f20075881005 button');\n",
              "      quickchartButtonEl.style.display =\n",
              "        google.colab.kernel.accessAllowed ? 'block' : 'none';\n",
              "    })();\n",
              "  </script>\n",
              "</div>\n",
              "    </div>\n",
              "  </div>\n"
            ],
            "text/plain": [
              "    x1   x2\n",
              "0  1.7  1.7\n",
              "1  3.5  7.0\n",
              "2  8.5  1.5\n",
              "3  8.5  8.5"
            ]
          },
          "execution_count": 12,
          "metadata": {},
          "output_type": "execute_result"
        }
      ],
      "source": [
        "data_test"
      ]
    },
    {
      "cell_type": "code",
      "execution_count": null,
      "metadata": {
        "colab": {
          "base_uri": "https://localhost:8080/",
          "height": 698
        },
        "id": "gqrkVtLPtai8",
        "outputId": "8594a9cf-6555-4ecd-f109-74ad568e26ff"
      },
      "outputs": [
        {
          "data": {
            "image/png": "[encoded data removed]",
            "text/plain": [
              "<Figure size 800x800 with 1 Axes>"
            ]
          },
          "metadata": {},
          "output_type": "display_data"
        }
      ],
      "source": [
        "# визуализация выборки\n",
        "fig, ax = plt.subplots(figsize=(8,8))\n",
        "\n",
        "ax.plot(data_train['x1'], data_train['x2'], 'b.', \\\n",
        "         data_test['x1'], data_test['x2'], 'ro')\n",
        "\n",
        "# деления на осях и сетка\n",
        "ax.xaxis.set_major_locator(ticker.MultipleLocator(1))\n",
        "ax.yaxis.set_major_locator(ticker.MultipleLocator(1))\n",
        "ax.grid(which='major', color = 'k')\n",
        "\n",
        "# подписи к осям\n",
        "plt.xlabel('$X_1$')\n",
        "plt.ylabel('$X_2$')\n",
        "\n",
        "# подписи\n",
        "for coords in data_train[['x1','x2', 'y', 'y_clas']].values:\n",
        "    x1, x2, y_cl, cl = coords[0], coords[1], coords[2], coords[3]\n",
        "    #label = '{} ({})'.format(y_cl, cl)\n",
        "    #ax.text(x1 + 0.1, x2, label, style='italic', fontsize=7)\n",
        "    ax.text(x1 + 0.1, x2, cl, style='italic', fontsize=10)\n",
        "    ax.text(x1, x2-0.3, y_cl, style='italic', fontsize=10)\n",
        "\n",
        "plt.show()"
      ]
    },
    {
      "cell_type": "markdown",
      "metadata": {
        "id": "0DOcaZ7Otai8"
      },
      "source": [
        "### Фаза обучения"
      ]
    },
    {
      "cell_type": "markdown",
      "metadata": {
        "id": "kg0vsMzotai9"
      },
      "source": [
        "- Особенность метода заключается в том, что фаза обучения как таковая отсутствует. При обучении необходимо только сохранить обучающую выборку $X^{train}|Y^{train}$, которая будет использоваться для выбора ближайших соседей на этапе предсказания.\n",
        "\n",
        "- В этом отношении k-NN очень нетипичный метод. В большинстве других методов на этапе обучения используется массивная обработка данных и построение сложной модели аппроксимации для дальнейших предсказаний."
      ]
    },
    {
      "cell_type": "markdown",
      "metadata": {
        "id": "-72_qMmGtai9"
      },
      "source": [
        "#### Пример с регрессией"
      ]
    },
    {
      "cell_type": "code",
      "execution_count": null,
      "metadata": {
        "id": "Bu1mX_1Jtai9"
      },
      "outputs": [],
      "source": [
        "# создаем объект класса\n",
        "simple_knn_regr = SimpleKNN()"
      ]
    },
    {
      "cell_type": "code",
      "execution_count": null,
      "metadata": {
        "id": "nDzBsQZjtai9"
      },
      "outputs": [],
      "source": [
        "# вызываем метод обучения\n",
        "simple_knn_regr.fit(data_train[['x1','x2']], data_train['y'])"
      ]
    },
    {
      "cell_type": "code",
      "execution_count": null,
      "metadata": {
        "colab": {
          "base_uri": "https://localhost:8080/",
          "height": 394
        },
        "id": "FtLxlFu6tai9",
        "outputId": "d642e844-4d55-4cf9-a6aa-4da1dec81070"
      },
      "outputs": [
        {
          "data": {
            "application/vnd.google.colaboratory.intrinsic+json": {
              "summary": "{\n  \"name\": \"simple_knn_regr\",\n  \"rows\": 11,\n  \"fields\": [\n    {\n      \"column\": \"x1\",\n      \"properties\": {\n        \"dtype\": \"number\",\n        \"std\": 3.877745361793254,\n        \"min\": 0.5,\n        \"max\": 9.5,\n        \"num_unique_values\": 9,\n        \"samples\": [\n          8.7,\n          1.0,\n          9.0\n        ],\n        \"semantic_type\": \"\",\n        \"description\": \"\"\n      }\n    },\n    {\n      \"column\": \"x2\",\n      \"properties\": {\n        \"dtype\": \"number\",\n        \"std\": 3.8683564750655823,\n        \"min\": 1.0,\n        \"max\": 9.5,\n        \"num_unique_values\": 8,\n        \"samples\": [\n          1.2,\n          8.2,\n          1.0\n        ],\n        \"semantic_type\": \"\",\n        \"description\": \"\"\n      }\n    }\n  ]\n}",
              "type": "dataframe"
            },
            "text/html": [
              "\n",
              "  <div id=\"df-c614c93a-6194-48b0-b1ce-2cdb854ba5e1\" class=\"colab-df-container\">\n",
              "    <div>\n",
              "<style scoped>\n",
              "    .dataframe tbody tr th:only-of-type {\n",
              "        vertical-align: middle;\n",
              "    }\n",
              "\n",
              "    .dataframe tbody tr th {\n",
              "        vertical-align: top;\n",
              "    }\n",
              "\n",
              "    .dataframe thead th {\n",
              "        text-align: right;\n",
              "    }\n",
              "</style>\n",
              "<table border=\"1\" class=\"dataframe\">\n",
              "  <thead>\n",
              "    <tr style=\"text-align: right;\">\n",
              "      <th></th>\n",
              "      <th>x1</th>\n",
              "      <th>x2</th>\n",
              "    </tr>\n",
              "  </thead>\n",
              "  <tbody>\n",
              "    <tr>\n",
              "      <th>0</th>\n",
              "      <td>0.5</td>\n",
              "      <td>1.0</td>\n",
              "    </tr>\n",
              "    <tr>\n",
              "      <th>1</th>\n",
              "      <td>1.0</td>\n",
              "      <td>1.2</td>\n",
              "    </tr>\n",
              "    <tr>\n",
              "      <th>2</th>\n",
              "      <td>2.0</td>\n",
              "      <td>2.0</td>\n",
              "    </tr>\n",
              "    <tr>\n",
              "      <th>3</th>\n",
              "      <td>2.5</td>\n",
              "      <td>2.0</td>\n",
              "    </tr>\n",
              "    <tr>\n",
              "      <th>4</th>\n",
              "      <td>8.0</td>\n",
              "      <td>1.0</td>\n",
              "    </tr>\n",
              "    <tr>\n",
              "      <th>5</th>\n",
              "      <td>9.0</td>\n",
              "      <td>2.0</td>\n",
              "    </tr>\n",
              "    <tr>\n",
              "      <th>6</th>\n",
              "      <td>1.0</td>\n",
              "      <td>8.5</td>\n",
              "    </tr>\n",
              "    <tr>\n",
              "      <th>7</th>\n",
              "      <td>8.1</td>\n",
              "      <td>9.0</td>\n",
              "    </tr>\n",
              "    <tr>\n",
              "      <th>8</th>\n",
              "      <td>9.0</td>\n",
              "      <td>8.2</td>\n",
              "    </tr>\n",
              "    <tr>\n",
              "      <th>9</th>\n",
              "      <td>8.7</td>\n",
              "      <td>9.2</td>\n",
              "    </tr>\n",
              "    <tr>\n",
              "      <th>10</th>\n",
              "      <td>9.5</td>\n",
              "      <td>9.5</td>\n",
              "    </tr>\n",
              "  </tbody>\n",
              "</table>\n",
              "</div>\n",
              "    <div class=\"colab-df-buttons\">\n",
              "\n",
              "  <div class=\"colab-df-container\">\n",
              "    <button class=\"colab-df-convert\" onclick=\"convertToInteractive('df-c614c93a-6194-48b0-b1ce-2cdb854ba5e1')\"\n",
              "            title=\"Convert this dataframe to an interactive table.\"\n",
              "            style=\"display:none;\">\n",
              "\n",
              "  <svg xmlns=\"http://www.w3.org/2000/svg\" height=\"24px\" viewBox=\"0 -960 960 960\">\n",
              "    <path d=\"M120-120v-720h720v720H120Zm60-500h600v-160H180v160Zm220 220h160v-160H400v160Zm0 220h160v-160H400v160ZM180-400h160v-160H180v160Zm440 0h160v-160H620v160ZM180-180h160v-160H180v160Zm440 0h160v-160H620v160Z\"/>\n",
              "  </svg>\n",
              "    </button>\n",
              "\n",
              "  <style>\n",
              "    .colab-df-container {\n",
              "      display:flex;\n",
              "      gap: 12px;\n",
              "    }\n",
              "\n",
              "    .colab-df-convert {\n",
              "      background-color: #E8F0FE;\n",
              "      border: none;\n",
              "      border-radius: 50%;\n",
              "      cursor: pointer;\n",
              "      display: none;\n",
              "      fill: #1967D2;\n",
              "      height: 32px;\n",
              "      padding: 0 0 0 0;\n",
              "      width: 32px;\n",
              "    }\n",
              "\n",
              "    .colab-df-convert:hover {\n",
              "      background-color: #E2EBFA;\n",
              "      box-shadow: 0px 1px 2px rgba(60, 64, 67, 0.3), 0px 1px 3px 1px rgba(60, 64, 67, 0.15);\n",
              "      fill: #174EA6;\n",
              "    }\n",
              "\n",
              "    .colab-df-buttons div {\n",
              "      margin-bottom: 4px;\n",
              "    }\n",
              "\n",
              "    [theme=dark] .colab-df-convert {\n",
              "      background-color: #3B4455;\n",
              "      fill: #D2E3FC;\n",
              "    }\n",
              "\n",
              "    [theme=dark] .colab-df-convert:hover {\n",
              "      background-color: #434B5C;\n",
              "      box-shadow: 0px 1px 3px 1px rgba(0, 0, 0, 0.15);\n",
              "      filter: drop-shadow(0px 1px 2px rgba(0, 0, 0, 0.3));\n",
              "      fill: #FFFFFF;\n",
              "    }\n",
              "  </style>\n",
              "\n",
              "    <script>\n",
              "      const buttonEl =\n",
              "        document.querySelector('#df-c614c93a-6194-48b0-b1ce-2cdb854ba5e1 button.colab-df-convert');\n",
              "      buttonEl.style.display =\n",
              "        google.colab.kernel.accessAllowed ? 'block' : 'none';\n",
              "\n",
              "      async function convertToInteractive(key) {\n",
              "        const element = document.querySelector('#df-c614c93a-6194-48b0-b1ce-2cdb854ba5e1');\n",
              "        const dataTable =\n",
              "          await google.colab.kernel.invokeFunction('convertToInteractive',\n",
              "                                                    [key], {});\n",
              "        if (!dataTable) return;\n",
              "\n",
              "        const docLinkHtml = 'Like what you see? Visit the ' +\n",
              "          '<a target=\"_blank\" href=https://colab.research.google.com/notebooks/data_table.ipynb>data table notebook</a>'\n",
              "          + ' to learn more about interactive tables.';\n",
              "        element.innerHTML = '';\n",
              "        dataTable['output_type'] = 'display_data';\n",
              "        await google.colab.output.renderOutput(dataTable, element);\n",
              "        const docLink = document.createElement('div');\n",
              "        docLink.innerHTML = docLinkHtml;\n",
              "        element.appendChild(docLink);\n",
              "      }\n",
              "    </script>\n",
              "  </div>\n",
              "\n",
              "\n",
              "<div id=\"df-9f4f280b-d42b-427c-8d8b-552a07434c9f\">\n",
              "  <button class=\"colab-df-quickchart\" onclick=\"quickchart('df-9f4f280b-d42b-427c-8d8b-552a07434c9f')\"\n",
              "            title=\"Suggest charts\"\n",
              "            style=\"display:none;\">\n",
              "\n",
              "<svg xmlns=\"http://www.w3.org/2000/svg\" height=\"24px\"viewBox=\"0 0 24 24\"\n",
              "     width=\"24px\">\n",
              "    <g>\n",
              "        <path d=\"M19 3H5c-1.1 0-2 .9-2 2v14c0 1.1.9 2 2 2h14c1.1 0 2-.9 2-2V5c0-1.1-.9-2-2-2zM9 17H7v-7h2v7zm4 0h-2V7h2v10zm4 0h-2v-4h2v4z\"/>\n",
              "    </g>\n",
              "</svg>\n",
              "  </button>\n",
              "\n",
              "<style>\n",
              "  .colab-df-quickchart {\n",
              "      --bg-color: #E8F0FE;\n",
              "      --fill-color: #1967D2;\n",
              "      --hover-bg-color: #E2EBFA;\n",
              "      --hover-fill-color: #174EA6;\n",
              "      --disabled-fill-color: #AAA;\n",
              "      --disabled-bg-color: #DDD;\n",
              "  }\n",
              "\n",
              "  [theme=dark] .colab-df-quickchart {\n",
              "      --bg-color: #3B4455;\n",
              "      --fill-color: #D2E3FC;\n",
              "      --hover-bg-color: #434B5C;\n",
              "      --hover-fill-color: #FFFFFF;\n",
              "      --disabled-bg-color: #3B4455;\n",
              "      --disabled-fill-color: #666;\n",
              "  }\n",
              "\n",
              "  .colab-df-quickchart {\n",
              "    background-color: var(--bg-color);\n",
              "    border: none;\n",
              "    border-radius: 50%;\n",
              "    cursor: pointer;\n",
              "    display: none;\n",
              "    fill: var(--fill-color);\n",
              "    height: 32px;\n",
              "    padding: 0;\n",
              "    width: 32px;\n",
              "  }\n",
              "\n",
              "  .colab-df-quickchart:hover {\n",
              "    background-color: var(--hover-bg-color);\n",
              "    box-shadow: 0 1px 2px rgba(60, 64, 67, 0.3), 0 1px 3px 1px rgba(60, 64, 67, 0.15);\n",
              "    fill: var(--button-hover-fill-color);\n",
              "  }\n",
              "\n",
              "  .colab-df-quickchart-complete:disabled,\n",
              "  .colab-df-quickchart-complete:disabled:hover {\n",
              "    background-color: var(--disabled-bg-color);\n",
              "    fill: var(--disabled-fill-color);\n",
              "    box-shadow: none;\n",
              "  }\n",
              "\n",
              "  .colab-df-spinner {\n",
              "    border: 2px solid var(--fill-color);\n",
              "    border-color: transparent;\n",
              "    border-bottom-color: var(--fill-color);\n",
              "    animation:\n",
              "      spin 1s steps(1) infinite;\n",
              "  }\n",
              "\n",
              "  @keyframes spin {\n",
              "    0% {\n",
              "      border-color: transparent;\n",
              "      border-bottom-color: var(--fill-color);\n",
              "      border-left-color: var(--fill-color);\n",
              "    }\n",
              "    20% {\n",
              "      border-color: transparent;\n",
              "      border-left-color: var(--fill-color);\n",
              "      border-top-color: var(--fill-color);\n",
              "    }\n",
              "    30% {\n",
              "      border-color: transparent;\n",
              "      border-left-color: var(--fill-color);\n",
              "      border-top-color: var(--fill-color);\n",
              "      border-right-color: var(--fill-color);\n",
              "    }\n",
              "    40% {\n",
              "      border-color: transparent;\n",
              "      border-right-color: var(--fill-color);\n",
              "      border-top-color: var(--fill-color);\n",
              "    }\n",
              "    60% {\n",
              "      border-color: transparent;\n",
              "      border-right-color: var(--fill-color);\n",
              "    }\n",
              "    80% {\n",
              "      border-color: transparent;\n",
              "      border-right-color: var(--fill-color);\n",
              "      border-bottom-color: var(--fill-color);\n",
              "    }\n",
              "    90% {\n",
              "      border-color: transparent;\n",
              "      border-bottom-color: var(--fill-color);\n",
              "    }\n",
              "  }\n",
              "</style>\n",
              "\n",
              "  <script>\n",
              "    async function quickchart(key) {\n",
              "      const quickchartButtonEl =\n",
              "        document.querySelector('#' + key + ' button');\n",
              "      quickchartButtonEl.disabled = true;  // To prevent multiple clicks.\n",
              "      quickchartButtonEl.classList.add('colab-df-spinner');\n",
              "      try {\n",
              "        const charts = await google.colab.kernel.invokeFunction(\n",
              "            'suggestCharts', [key], {});\n",
              "      } catch (error) {\n",
              "        console.error('Error during call to suggestCharts:', error);\n",
              "      }\n",
              "      quickchartButtonEl.classList.remove('colab-df-spinner');\n",
              "      quickchartButtonEl.classList.add('colab-df-quickchart-complete');\n",
              "    }\n",
              "    (() => {\n",
              "      let quickchartButtonEl =\n",
              "        document.querySelector('#df-9f4f280b-d42b-427c-8d8b-552a07434c9f button');\n",
              "      quickchartButtonEl.style.display =\n",
              "        google.colab.kernel.accessAllowed ? 'block' : 'none';\n",
              "    })();\n",
              "  </script>\n",
              "</div>\n",
              "    </div>\n",
              "  </div>\n"
            ],
            "text/plain": [
              "     x1   x2\n",
              "0   0.5  1.0\n",
              "1   1.0  1.2\n",
              "2   2.0  2.0\n",
              "3   2.5  2.0\n",
              "4   8.0  1.0\n",
              "5   9.0  2.0\n",
              "6   1.0  8.5\n",
              "7   8.1  9.0\n",
              "8   9.0  8.2\n",
              "9   8.7  9.2\n",
              "10  9.5  9.5"
            ]
          },
          "execution_count": 16,
          "metadata": {},
          "output_type": "execute_result"
        }
      ],
      "source": [
        "# параметры метода\n",
        "# матрица объект-признак\n",
        "simple_knn_regr._X_train"
      ]
    },
    {
      "cell_type": "code",
      "execution_count": null,
      "metadata": {
        "colab": {
          "base_uri": "https://localhost:8080/"
        },
        "id": "g6UeOuottai9",
        "outputId": "34084389-ac3f-48a3-c76c-498dc6326ad4"
      },
      "outputs": [
        {
          "data": {
            "text/plain": [
              "0     1.1\n",
              "1     1.2\n",
              "2     1.9\n",
              "3     2.0\n",
              "4     4.0\n",
              "5     4.5\n",
              "6     6.0\n",
              "7     8.1\n",
              "8     8.2\n",
              "9     8.1\n",
              "10    8.3\n",
              "Name: y, dtype: float64"
            ]
          },
          "execution_count": 17,
          "metadata": {},
          "output_type": "execute_result"
        }
      ],
      "source": [
        "# вектор целевого признака\n",
        "simple_knn_regr._y_train"
      ]
    },
    {
      "cell_type": "markdown",
      "metadata": {
        "id": "_I2qDAs-tai-"
      },
      "source": [
        "#### Пример с классификацией"
      ]
    },
    {
      "cell_type": "code",
      "execution_count": null,
      "metadata": {
        "id": "mnL5cw9Vtai-"
      },
      "outputs": [],
      "source": [
        "simple_knn_clas = SimpleKNN()\n",
        "simple_knn_clas.fit(data_train[['x1','x2']], data_train['y_clas'])"
      ]
    },
    {
      "cell_type": "code",
      "execution_count": null,
      "metadata": {
        "colab": {
          "base_uri": "https://localhost:8080/",
          "height": 394
        },
        "id": "Ks_ETlkdtai-",
        "outputId": "730f640e-8f29-4a59-8c7d-86c711b40ec6"
      },
      "outputs": [
        {
          "data": {
            "application/vnd.google.colaboratory.intrinsic+json": {
              "summary": "{\n  \"name\": \"simple_knn_clas\",\n  \"rows\": 11,\n  \"fields\": [\n    {\n      \"column\": \"x1\",\n      \"properties\": {\n        \"dtype\": \"number\",\n        \"std\": 3.877745361793254,\n        \"min\": 0.5,\n        \"max\": 9.5,\n        \"num_unique_values\": 9,\n        \"samples\": [\n          8.7,\n          1.0,\n          9.0\n        ],\n        \"semantic_type\": \"\",\n        \"description\": \"\"\n      }\n    },\n    {\n      \"column\": \"x2\",\n      \"properties\": {\n        \"dtype\": \"number\",\n        \"std\": 3.8683564750655823,\n        \"min\": 1.0,\n        \"max\": 9.5,\n        \"num_unique_values\": 8,\n        \"samples\": [\n          1.2,\n          8.2,\n          1.0\n        ],\n        \"semantic_type\": \"\",\n        \"description\": \"\"\n      }\n    }\n  ]\n}",
              "type": "dataframe"
            },
            "text/html": [
              "\n",
              "  <div id=\"df-fdb6e70c-2738-4e81-86de-8d5bc1f82422\" class=\"colab-df-container\">\n",
              "    <div>\n",
              "<style scoped>\n",
              "    .dataframe tbody tr th:only-of-type {\n",
              "        vertical-align: middle;\n",
              "    }\n",
              "\n",
              "    .dataframe tbody tr th {\n",
              "        vertical-align: top;\n",
              "    }\n",
              "\n",
              "    .dataframe thead th {\n",
              "        text-align: right;\n",
              "    }\n",
              "</style>\n",
              "<table border=\"1\" class=\"dataframe\">\n",
              "  <thead>\n",
              "    <tr style=\"text-align: right;\">\n",
              "      <th></th>\n",
              "      <th>x1</th>\n",
              "      <th>x2</th>\n",
              "    </tr>\n",
              "  </thead>\n",
              "  <tbody>\n",
              "    <tr>\n",
              "      <th>0</th>\n",
              "      <td>0.5</td>\n",
              "      <td>1.0</td>\n",
              "    </tr>\n",
              "    <tr>\n",
              "      <th>1</th>\n",
              "      <td>1.0</td>\n",
              "      <td>1.2</td>\n",
              "    </tr>\n",
              "    <tr>\n",
              "      <th>2</th>\n",
              "      <td>2.0</td>\n",
              "      <td>2.0</td>\n",
              "    </tr>\n",
              "    <tr>\n",
              "      <th>3</th>\n",
              "      <td>2.5</td>\n",
              "      <td>2.0</td>\n",
              "    </tr>\n",
              "    <tr>\n",
              "      <th>4</th>\n",
              "      <td>8.0</td>\n",
              "      <td>1.0</td>\n",
              "    </tr>\n",
              "    <tr>\n",
              "      <th>5</th>\n",
              "      <td>9.0</td>\n",
              "      <td>2.0</td>\n",
              "    </tr>\n",
              "    <tr>\n",
              "      <th>6</th>\n",
              "      <td>1.0</td>\n",
              "      <td>8.5</td>\n",
              "    </tr>\n",
              "    <tr>\n",
              "      <th>7</th>\n",
              "      <td>8.1</td>\n",
              "      <td>9.0</td>\n",
              "    </tr>\n",
              "    <tr>\n",
              "      <th>8</th>\n",
              "      <td>9.0</td>\n",
              "      <td>8.2</td>\n",
              "    </tr>\n",
              "    <tr>\n",
              "      <th>9</th>\n",
              "      <td>8.7</td>\n",
              "      <td>9.2</td>\n",
              "    </tr>\n",
              "    <tr>\n",
              "      <th>10</th>\n",
              "      <td>9.5</td>\n",
              "      <td>9.5</td>\n",
              "    </tr>\n",
              "  </tbody>\n",
              "</table>\n",
              "</div>\n",
              "    <div class=\"colab-df-buttons\">\n",
              "\n",
              "  <div class=\"colab-df-container\">\n",
              "    <button class=\"colab-df-convert\" onclick=\"convertToInteractive('df-fdb6e70c-2738-4e81-86de-8d5bc1f82422')\"\n",
              "            title=\"Convert this dataframe to an interactive table.\"\n",
              "            style=\"display:none;\">\n",
              "\n",
              "  <svg xmlns=\"http://www.w3.org/2000/svg\" height=\"24px\" viewBox=\"0 -960 960 960\">\n",
              "    <path d=\"M120-120v-720h720v720H120Zm60-500h600v-160H180v160Zm220 220h160v-160H400v160Zm0 220h160v-160H400v160ZM180-400h160v-160H180v160Zm440 0h160v-160H620v160ZM180-180h160v-160H180v160Zm440 0h160v-160H620v160Z\"/>\n",
              "  </svg>\n",
              "    </button>\n",
              "\n",
              "  <style>\n",
              "    .colab-df-container {\n",
              "      display:flex;\n",
              "      gap: 12px;\n",
              "    }\n",
              "\n",
              "    .colab-df-convert {\n",
              "      background-color: #E8F0FE;\n",
              "      border: none;\n",
              "      border-radius: 50%;\n",
              "      cursor: pointer;\n",
              "      display: none;\n",
              "      fill: #1967D2;\n",
              "      height: 32px;\n",
              "      padding: 0 0 0 0;\n",
              "      width: 32px;\n",
              "    }\n",
              "\n",
              "    .colab-df-convert:hover {\n",
              "      background-color: #E2EBFA;\n",
              "      box-shadow: 0px 1px 2px rgba(60, 64, 67, 0.3), 0px 1px 3px 1px rgba(60, 64, 67, 0.15);\n",
              "      fill: #174EA6;\n",
              "    }\n",
              "\n",
              "    .colab-df-buttons div {\n",
              "      margin-bottom: 4px;\n",
              "    }\n",
              "\n",
              "    [theme=dark] .colab-df-convert {\n",
              "      background-color: #3B4455;\n",
              "      fill: #D2E3FC;\n",
              "    }\n",
              "\n",
              "    [theme=dark] .colab-df-convert:hover {\n",
              "      background-color: #434B5C;\n",
              "      box-shadow: 0px 1px 3px 1px rgba(0, 0, 0, 0.15);\n",
              "      filter: drop-shadow(0px 1px 2px rgba(0, 0, 0, 0.3));\n",
              "      fill: #FFFFFF;\n",
              "    }\n",
              "  </style>\n",
              "\n",
              "    <script>\n",
              "      const buttonEl =\n",
              "        document.querySelector('#df-fdb6e70c-2738-4e81-86de-8d5bc1f82422 button.colab-df-convert');\n",
              "      buttonEl.style.display =\n",
              "        google.colab.kernel.accessAllowed ? 'block' : 'none';\n",
              "\n",
              "      async function convertToInteractive(key) {\n",
              "        const element = document.querySelector('#df-fdb6e70c-2738-4e81-86de-8d5bc1f82422');\n",
              "        const dataTable =\n",
              "          await google.colab.kernel.invokeFunction('convertToInteractive',\n",
              "                                                    [key], {});\n",
              "        if (!dataTable) return;\n",
              "\n",
              "        const docLinkHtml = 'Like what you see? Visit the ' +\n",
              "          '<a target=\"_blank\" href=https://colab.research.google.com/notebooks/data_table.ipynb>data table notebook</a>'\n",
              "          + ' to learn more about interactive tables.';\n",
              "        element.innerHTML = '';\n",
              "        dataTable['output_type'] = 'display_data';\n",
              "        await google.colab.output.renderOutput(dataTable, element);\n",
              "        const docLink = document.createElement('div');\n",
              "        docLink.innerHTML = docLinkHtml;\n",
              "        element.appendChild(docLink);\n",
              "      }\n",
              "    </script>\n",
              "  </div>\n",
              "\n",
              "\n",
              "<div id=\"df-89fd056e-98a2-4bf6-b185-7d8d6c06de61\">\n",
              "  <button class=\"colab-df-quickchart\" onclick=\"quickchart('df-89fd056e-98a2-4bf6-b185-7d8d6c06de61')\"\n",
              "            title=\"Suggest charts\"\n",
              "            style=\"display:none;\">\n",
              "\n",
              "<svg xmlns=\"http://www.w3.org/2000/svg\" height=\"24px\"viewBox=\"0 0 24 24\"\n",
              "     width=\"24px\">\n",
              "    <g>\n",
              "        <path d=\"M19 3H5c-1.1 0-2 .9-2 2v14c0 1.1.9 2 2 2h14c1.1 0 2-.9 2-2V5c0-1.1-.9-2-2-2zM9 17H7v-7h2v7zm4 0h-2V7h2v10zm4 0h-2v-4h2v4z\"/>\n",
              "    </g>\n",
              "</svg>\n",
              "  </button>\n",
              "\n",
              "<style>\n",
              "  .colab-df-quickchart {\n",
              "      --bg-color: #E8F0FE;\n",
              "      --fill-color: #1967D2;\n",
              "      --hover-bg-color: #E2EBFA;\n",
              "      --hover-fill-color: #174EA6;\n",
              "      --disabled-fill-color: #AAA;\n",
              "      --disabled-bg-color: #DDD;\n",
              "  }\n",
              "\n",
              "  [theme=dark] .colab-df-quickchart {\n",
              "      --bg-color: #3B4455;\n",
              "      --fill-color: #D2E3FC;\n",
              "      --hover-bg-color: #434B5C;\n",
              "      --hover-fill-color: #FFFFFF;\n",
              "      --disabled-bg-color: #3B4455;\n",
              "      --disabled-fill-color: #666;\n",
              "  }\n",
              "\n",
              "  .colab-df-quickchart {\n",
              "    background-color: var(--bg-color);\n",
              "    border: none;\n",
              "    border-radius: 50%;\n",
              "    cursor: pointer;\n",
              "    display: none;\n",
              "    fill: var(--fill-color);\n",
              "    height: 32px;\n",
              "    padding: 0;\n",
              "    width: 32px;\n",
              "  }\n",
              "\n",
              "  .colab-df-quickchart:hover {\n",
              "    background-color: var(--hover-bg-color);\n",
              "    box-shadow: 0 1px 2px rgba(60, 64, 67, 0.3), 0 1px 3px 1px rgba(60, 64, 67, 0.15);\n",
              "    fill: var(--button-hover-fill-color);\n",
              "  }\n",
              "\n",
              "  .colab-df-quickchart-complete:disabled,\n",
              "  .colab-df-quickchart-complete:disabled:hover {\n",
              "    background-color: var(--disabled-bg-color);\n",
              "    fill: var(--disabled-fill-color);\n",
              "    box-shadow: none;\n",
              "  }\n",
              "\n",
              "  .colab-df-spinner {\n",
              "    border: 2px solid var(--fill-color);\n",
              "    border-color: transparent;\n",
              "    border-bottom-color: var(--fill-color);\n",
              "    animation:\n",
              "      spin 1s steps(1) infinite;\n",
              "  }\n",
              "\n",
              "  @keyframes spin {\n",
              "    0% {\n",
              "      border-color: transparent;\n",
              "      border-bottom-color: var(--fill-color);\n",
              "      border-left-color: var(--fill-color);\n",
              "    }\n",
              "    20% {\n",
              "      border-color: transparent;\n",
              "      border-left-color: var(--fill-color);\n",
              "      border-top-color: var(--fill-color);\n",
              "    }\n",
              "    30% {\n",
              "      border-color: transparent;\n",
              "      border-left-color: var(--fill-color);\n",
              "      border-top-color: var(--fill-color);\n",
              "      border-right-color: var(--fill-color);\n",
              "    }\n",
              "    40% {\n",
              "      border-color: transparent;\n",
              "      border-right-color: var(--fill-color);\n",
              "      border-top-color: var(--fill-color);\n",
              "    }\n",
              "    60% {\n",
              "      border-color: transparent;\n",
              "      border-right-color: var(--fill-color);\n",
              "    }\n",
              "    80% {\n",
              "      border-color: transparent;\n",
              "      border-right-color: var(--fill-color);\n",
              "      border-bottom-color: var(--fill-color);\n",
              "    }\n",
              "    90% {\n",
              "      border-color: transparent;\n",
              "      border-bottom-color: var(--fill-color);\n",
              "    }\n",
              "  }\n",
              "</style>\n",
              "\n",
              "  <script>\n",
              "    async function quickchart(key) {\n",
              "      const quickchartButtonEl =\n",
              "        document.querySelector('#' + key + ' button');\n",
              "      quickchartButtonEl.disabled = true;  // To prevent multiple clicks.\n",
              "      quickchartButtonEl.classList.add('colab-df-spinner');\n",
              "      try {\n",
              "        const charts = await google.colab.kernel.invokeFunction(\n",
              "            'suggestCharts', [key], {});\n",
              "      } catch (error) {\n",
              "        console.error('Error during call to suggestCharts:', error);\n",
              "      }\n",
              "      quickchartButtonEl.classList.remove('colab-df-spinner');\n",
              "      quickchartButtonEl.classList.add('colab-df-quickchart-complete');\n",
              "    }\n",
              "    (() => {\n",
              "      let quickchartButtonEl =\n",
              "        document.querySelector('#df-89fd056e-98a2-4bf6-b185-7d8d6c06de61 button');\n",
              "      quickchartButtonEl.style.display =\n",
              "        google.colab.kernel.accessAllowed ? 'block' : 'none';\n",
              "    })();\n",
              "  </script>\n",
              "</div>\n",
              "    </div>\n",
              "  </div>\n"
            ],
            "text/plain": [
              "     x1   x2\n",
              "0   0.5  1.0\n",
              "1   1.0  1.2\n",
              "2   2.0  2.0\n",
              "3   2.5  2.0\n",
              "4   8.0  1.0\n",
              "5   9.0  2.0\n",
              "6   1.0  8.5\n",
              "7   8.1  9.0\n",
              "8   9.0  8.2\n",
              "9   8.7  9.2\n",
              "10  9.5  9.5"
            ]
          },
          "execution_count": 19,
          "metadata": {},
          "output_type": "execute_result"
        }
      ],
      "source": [
        "simple_knn_clas._X_train"
      ]
    },
    {
      "cell_type": "code",
      "execution_count": null,
      "metadata": {
        "colab": {
          "base_uri": "https://localhost:8080/"
        },
        "id": "60sOD9jEtai-",
        "outputId": "b166bcf4-c9cc-4dc5-a6cc-90ec0e56d6fc"
      },
      "outputs": [
        {
          "data": {
            "text/plain": [
              "0     A\n",
              "1     A\n",
              "2     A\n",
              "3     A\n",
              "4     B\n",
              "5     B\n",
              "6     C\n",
              "7     D\n",
              "8     D\n",
              "9     D\n",
              "10    D\n",
              "Name: y_clas, dtype: object"
            ]
          },
          "execution_count": 20,
          "metadata": {},
          "output_type": "execute_result"
        }
      ],
      "source": [
        "simple_knn_clas._y_train"
      ]
    },
    {
      "cell_type": "markdown",
      "metadata": {
        "id": "PQCq20WItai_"
      },
      "source": [
        "### Фаза предсказания"
      ]
    },
    {
      "cell_type": "markdown",
      "metadata": {
        "id": "SLRuZ_vAtai_"
      },
      "source": [
        "Фаза предсказания в методе ближайших соседей достаточно проста (здесь разобран наиболее простой алгоритм):\n",
        "1. Необходимо вычислить расстояние от искомой точки до всех точек обучающей выборки:\n",
        "  1. Для того, чтобы вычислить расстояние, в пространстве точек необходимо ввести метрику (функцию дистанции).\n",
        "  1. Наиболее часто используется Евклидова метрика. Для векторов $p$ и $q$ в n-мерном пространстве:\n",
        "  $$d(p,q)= \\sqrt{ (p_1-q_1)^2 + (p_2-q_2)^2 + \\cdots + (p_n-q_n)^2 } = \\sqrt{ \\sum_{i=1}^{n} (p_i-q_i)^2} $$\n",
        "  Также могут использоваться более сложные метрики https://scikit-learn.org/stable/modules/generated/sklearn.metrics.DistanceMetric.html\n",
        "  \n",
        "1. Сортируем массив найденных расстояний по возрастанию.\n",
        "1. Выбираем K первых элементов массива (соответствующих точкам обучающей выборки, наиболее близких к искомой), знаем $Y_{o}^{train}$ для этих точек, объединяем найденные $Y_{o}^{train}$ в массив $YK^{train}$. Таким образом, массив $YK^{train}$ - это подмножество вектора $Y^{train}$, соответствующий  K точкам обучающей выборки, наиболее близким к искомой точке.\n",
        "1. Для полученого массива $YK^{train}$ необходимо вычислить регрессию или класификацию:\n",
        "    - В случае регрессии берется среднее по всем значениям массива - $mean(YK^{train})$\n",
        "    - В случае классификации возвращается метка класса, наиболее часто встречающегося в $YK^{train}$. То есть мы присоединяем точку к тому классу, к которому уже принадлежит больше всего соседей.\n",
        "    - Существуют другие подходы к классификации, например возвращать метку класса для наиболее близкого соседа (в этом случае фактически не учитывается гиперпараметр К).\n"
      ]
    },
    {
      "cell_type": "code",
      "execution_count": null,
      "metadata": {
        "colab": {
          "base_uri": "https://localhost:8080/"
        },
        "id": "jteFduY9tajA",
        "outputId": "06a306f0-fd1e-49d5-8379-e8976d748a1a"
      },
      "outputs": [
        {
          "data": {
            "text/plain": [
              "[1.7, 1.7]"
            ]
          },
          "execution_count": 21,
          "metadata": {},
          "output_type": "execute_result"
        }
      ],
      "source": [
        "# первая строка тестовой выборки\n",
        "data_test_0 = [x for x in data_test[['x1','x2']].iloc[0]]\n",
        "data_test_0"
      ]
    },
    {
      "cell_type": "code",
      "execution_count": null,
      "metadata": {
        "colab": {
          "base_uri": "https://localhost:8080/",
          "height": 1000
        },
        "id": "q5s4XZ3BtajA",
        "outputId": "ddadbaa2-6b17-41f3-a159-0e03c3cf2f9c"
      },
      "outputs": [
        {
          "name": "stdout",
          "output_type": "stream",
          "text": [
            "\n",
            "**************************************\n",
            "Проверяемая точка:  [1.7, 1.7]\n",
            "**************************************\n",
            "Вывод отсортированного списка соседей:\n",
            "X1=2.0, X2=2.0, y=1.9, расстояние=0.42\n",
            "X1=2.5, X2=2.0, y=2.0, расстояние=0.85\n",
            "X1=1.0, X2=1.2, y=1.2, расстояние=0.86\n",
            "X1=0.5, X2=1.0, y=1.1, расстояние=1.39\n",
            "X1=8.0, X2=1.0, y=4.0, расстояние=6.34\n",
            "X1=1.0, X2=8.5, y=6.0, расстояние=6.84\n",
            "X1=9.0, X2=2.0, y=4.5, расстояние=7.31\n",
            "X1=8.1, X2=9.0, y=8.1, расстояние=9.71\n",
            "X1=9.0, X2=8.2, y=8.2, расстояние=9.77\n",
            "X1=8.7, X2=9.2, y=8.1, расстояние=10.26\n",
            "X1=9.5, X2=9.5, y=8.3, расстояние=11.03\n",
            "\n",
            "Вывод расстояния для отсортированного списка соседей:\n"
          ]
        },
        {
          "data": {
            "image/png": "[encoded data removed]",
            "text/plain": [
              "<Figure size 640x480 with 1 Axes>"
            ]
          },
          "metadata": {},
          "output_type": "display_data"
        },
        {
          "name": "stdout",
          "output_type": "stream",
          "text": [
            "Вывод К ближайших соседей:\n",
            "X1=2.0, X2=2.0, y=1.9, расстояние=0.42\n",
            "X1=2.5, X2=2.0, y=2.0, расстояние=0.85\n",
            "X1=1.0, X2=1.2, y=1.2, расстояние=0.86\n",
            "X1=0.5, X2=1.0, y=1.1, расстояние=1.39\n",
            "X1=8.0, X2=1.0, y=4.0, расстояние=6.34\n",
            "\n",
            "Визуализация К ближайших соседей:\n"
          ]
        },
        {
          "data": {
            "image/png": "[encoded data removed]",
            "text/plain": [
              "<Figure size 640x480 with 1 Axes>"
            ]
          },
          "metadata": {},
          "output_type": "display_data"
        },
        {
          "data": {
            "text/plain": [
              "2.04"
            ]
          },
          "execution_count": 22,
          "metadata": {},
          "output_type": "execute_result"
        }
      ],
      "source": [
        "# построим предсказание для одного объекта (регрессия)\n",
        "simple_knn_regr_0 = simple_knn_regr.predict_for_single_object(K=5, \\\n",
        "                          prediction_type=PredictionType.REGRESSION, \\\n",
        "                          X_o=data_test_0)\n",
        "simple_knn_regr_0"
      ]
    },
    {
      "cell_type": "code",
      "execution_count": null,
      "metadata": {
        "colab": {
          "base_uri": "https://localhost:8080/"
        },
        "id": "FGjWYjgGtajA",
        "outputId": "047efbac-226c-452c-defd-ab6a42950592"
      },
      "outputs": [
        {
          "data": {
            "text/plain": [
              "2.04"
            ]
          },
          "execution_count": 23,
          "metadata": {},
          "output_type": "execute_result"
        }
      ],
      "source": [
        "# Среднее значение y для соседей\n",
        "np.mean([1.9, 2.0, 1.2, 1.1, 4.0])"
      ]
    },
    {
      "cell_type": "code",
      "execution_count": null,
      "metadata": {
        "id": "TgnLyvoitajA",
        "outputId": "a16d893b-baee-41cf-f47e-4c3c30f85e2f"
      },
      "outputs": [
        {
          "name": "stdout",
          "output_type": "stream",
          "text": [
            "\n",
            "**************************************\n",
            "Проверяемая точка:  [1.7, 1.7]\n",
            "**************************************\n",
            "Вывод отсортированного списка соседей:\n",
            "X1=2.0, X2=2.0, y=A, расстояние=0.42\n",
            "X1=2.5, X2=2.0, y=A, расстояние=0.85\n",
            "X1=1.0, X2=1.2, y=A, расстояние=0.86\n",
            "X1=0.5, X2=1.0, y=A, расстояние=1.39\n",
            "X1=8.0, X2=1.0, y=B, расстояние=6.34\n",
            "X1=1.0, X2=8.5, y=C, расстояние=6.84\n",
            "X1=9.0, X2=2.0, y=B, расстояние=7.31\n",
            "X1=8.1, X2=9.0, y=D, расстояние=9.71\n",
            "X1=9.0, X2=8.2, y=D, расстояние=9.77\n",
            "X1=8.7, X2=9.2, y=D, расстояние=10.26\n",
            "X1=9.5, X2=9.5, y=D, расстояние=11.03\n",
            "\n",
            "Вывод расстояния для отсортированного списка соседей:\n"
          ]
        },
        {
          "data": {
            "image/png": "[encoded data removed]",
            "text/plain": [
              "<Figure size 432x288 with 1 Axes>"
            ]
          },
          "metadata": {},
          "output_type": "display_data"
        },
        {
          "name": "stdout",
          "output_type": "stream",
          "text": [
            "Вывод К ближайших соседей:\n",
            "X1=2.0, X2=2.0, y=A, расстояние=0.42\n",
            "X1=2.5, X2=2.0, y=A, расстояние=0.85\n",
            "X1=1.0, X2=1.2, y=A, расстояние=0.86\n",
            "X1=0.5, X2=1.0, y=A, расстояние=1.39\n",
            "X1=8.0, X2=1.0, y=B, расстояние=6.34\n",
            "\n",
            "Визуализация К ближайших соседей:\n"
          ]
        },
        {
          "data": {
            "image/png": "[encoded data removed]",
            "text/plain": [
              "<Figure size 432x288 with 1 Axes>"
            ]
          },
          "metadata": {},
          "output_type": "display_data"
        },
        {
          "name": "stdout",
          "output_type": "stream",
          "text": [
            "Классы, соответствующие К ближайшим соседям:\n",
            "класс=A, количество элементов=4\n",
            "класс=B, количество элементов=1\n"
          ]
        },
        {
          "data": {
            "text/plain": [
              "'A'"
            ]
          },
          "execution_count": 26,
          "metadata": {},
          "output_type": "execute_result"
        }
      ],
      "source": [
        "# построим предсказание для одного объекта (классификация)\n",
        "simple_knn_clas_0 = simple_knn_clas.predict_for_single_object(K=5, \\\n",
        "                          prediction_type=PredictionType.CLASSIFICATION, \\\n",
        "                          X_o=data_test_0)\n",
        "simple_knn_clas_0"
      ]
    },
    {
      "cell_type": "code",
      "execution_count": null,
      "metadata": {
        "id": "fz3Cw6TGtajB",
        "outputId": "03e049bf-d41a-4a90-8b7a-d92c623a8d42",
        "scrolled": false
      },
      "outputs": [
        {
          "name": "stdout",
          "output_type": "stream",
          "text": [
            "\n",
            "**************************************\n",
            "Проверяемая точка:  [1.7, 1.7]\n",
            "**************************************\n",
            "Вывод отсортированного списка соседей:\n",
            "X1=2.0, X2=2.0, y=1.9, расстояние=0.42\n",
            "X1=2.5, X2=2.0, y=2.0, расстояние=0.85\n",
            "X1=1.0, X2=1.2, y=1.2, расстояние=0.86\n",
            "X1=0.5, X2=1.0, y=1.1, расстояние=1.39\n",
            "X1=8.0, X2=1.0, y=4.0, расстояние=6.34\n",
            "X1=1.0, X2=8.5, y=6.0, расстояние=6.84\n",
            "X1=9.0, X2=2.0, y=4.5, расстояние=7.31\n",
            "X1=8.1, X2=9.0, y=8.1, расстояние=9.71\n",
            "X1=9.0, X2=8.2, y=8.2, расстояние=9.77\n",
            "X1=8.7, X2=9.2, y=8.1, расстояние=10.26\n",
            "X1=9.5, X2=9.5, y=8.3, расстояние=11.03\n",
            "\n",
            "Вывод расстояния для отсортированного списка соседей:\n"
          ]
        },
        {
          "data": {
            "image/png": "[encoded data removed]",
            "text/plain": [
              "<Figure size 432x288 with 1 Axes>"
            ]
          },
          "metadata": {},
          "output_type": "display_data"
        },
        {
          "name": "stdout",
          "output_type": "stream",
          "text": [
            "Вывод К ближайших соседей:\n",
            "X1=2.0, X2=2.0, y=1.9, расстояние=0.42\n",
            "X1=2.5, X2=2.0, y=2.0, расстояние=0.85\n",
            "X1=1.0, X2=1.2, y=1.2, расстояние=0.86\n",
            "X1=0.5, X2=1.0, y=1.1, расстояние=1.39\n",
            "X1=8.0, X2=1.0, y=4.0, расстояние=6.34\n",
            "\n",
            "Визуализация К ближайших соседей:\n"
          ]
        },
        {
          "data": {
            "image/png": "[encoded data removed]",
            "text/plain": [
              "<Figure size 432x288 with 1 Axes>"
            ]
          },
          "metadata": {},
          "output_type": "display_data"
        },
        {
          "name": "stdout",
          "output_type": "stream",
          "text": [
            "\n",
            "**************************************\n",
            "Проверяемая точка:  [3.5, 7.0]\n",
            "**************************************\n",
            "Вывод отсортированного списка соседей:\n",
            "X1=1.0, X2=8.5, y=6.0, расстояние=2.92\n",
            "X1=8.1, X2=9.0, y=8.1, расстояние=5.02\n",
            "X1=2.5, X2=2.0, y=2.0, расстояние=5.10\n",
            "X1=2.0, X2=2.0, y=1.9, расстояние=5.22\n",
            "X1=9.0, X2=8.2, y=8.2, расстояние=5.63\n",
            "X1=8.7, X2=9.2, y=8.1, расстояние=5.65\n",
            "X1=1.0, X2=1.2, y=1.2, расстояние=6.32\n",
            "X1=9.5, X2=9.5, y=8.3, расстояние=6.50\n",
            "X1=0.5, X2=1.0, y=1.1, расстояние=6.71\n",
            "X1=9.0, X2=2.0, y=4.5, расстояние=7.43\n",
            "X1=8.0, X2=1.0, y=4.0, расстояние=7.50\n",
            "\n",
            "Вывод расстояния для отсортированного списка соседей:\n"
          ]
        },
        {
          "data": {
            "image/png": "[encoded data removed]",
            "text/plain": [
              "<Figure size 432x288 with 1 Axes>"
            ]
          },
          "metadata": {},
          "output_type": "display_data"
        },
        {
          "name": "stdout",
          "output_type": "stream",
          "text": [
            "Вывод К ближайших соседей:\n",
            "X1=1.0, X2=8.5, y=6.0, расстояние=2.92\n",
            "X1=8.1, X2=9.0, y=8.1, расстояние=5.02\n",
            "X1=2.5, X2=2.0, y=2.0, расстояние=5.10\n",
            "X1=2.0, X2=2.0, y=1.9, расстояние=5.22\n",
            "X1=9.0, X2=8.2, y=8.2, расстояние=5.63\n",
            "\n",
            "Визуализация К ближайших соседей:\n"
          ]
        },
        {
          "data": {
            "image/png": "[encoded data removed]",
            "text/plain": [
              "<Figure size 432x288 with 1 Axes>"
            ]
          },
          "metadata": {},
          "output_type": "display_data"
        },
        {
          "name": "stdout",
          "output_type": "stream",
          "text": [
            "\n",
            "**************************************\n",
            "Проверяемая точка:  [8.5, 1.5]\n",
            "**************************************\n",
            "Вывод отсортированного списка соседей:\n",
            "X1=8.0, X2=1.0, y=4.0, расстояние=0.71\n",
            "X1=9.0, X2=2.0, y=4.5, расстояние=0.71\n",
            "X1=2.5, X2=2.0, y=2.0, расстояние=6.02\n",
            "X1=2.0, X2=2.0, y=1.9, расстояние=6.52\n",
            "X1=9.0, X2=8.2, y=8.2, расстояние=6.72\n",
            "X1=1.0, X2=1.2, y=1.2, расстояние=7.51\n",
            "X1=8.1, X2=9.0, y=8.1, расстояние=7.51\n",
            "X1=8.7, X2=9.2, y=8.1, расстояние=7.70\n",
            "X1=0.5, X2=1.0, y=1.1, расстояние=8.02\n",
            "X1=9.5, X2=9.5, y=8.3, расстояние=8.06\n",
            "X1=1.0, X2=8.5, y=6.0, расстояние=10.26\n",
            "\n",
            "Вывод расстояния для отсортированного списка соседей:\n"
          ]
        },
        {
          "data": {
            "image/png": "[encoded data removed]",
            "text/plain": [
              "<Figure size 432x288 with 1 Axes>"
            ]
          },
          "metadata": {},
          "output_type": "display_data"
        },
        {
          "name": "stdout",
          "output_type": "stream",
          "text": [
            "Вывод К ближайших соседей:\n",
            "X1=8.0, X2=1.0, y=4.0, расстояние=0.71\n",
            "X1=9.0, X2=2.0, y=4.5, расстояние=0.71\n",
            "X1=2.5, X2=2.0, y=2.0, расстояние=6.02\n",
            "X1=2.0, X2=2.0, y=1.9, расстояние=6.52\n",
            "X1=9.0, X2=8.2, y=8.2, расстояние=6.72\n",
            "\n",
            "Визуализация К ближайших соседей:\n"
          ]
        },
        {
          "data": {
            "image/png": "[encoded data removed]",
            "text/plain": [
              "<Figure size 432x288 with 1 Axes>"
            ]
          },
          "metadata": {},
          "output_type": "display_data"
        },
        {
          "name": "stdout",
          "output_type": "stream",
          "text": [
            "\n",
            "**************************************\n",
            "Проверяемая точка:  [8.5, 8.5]\n",
            "**************************************\n",
            "Вывод отсортированного списка соседей:\n",
            "X1=9.0, X2=8.2, y=8.2, расстояние=0.58\n",
            "X1=8.1, X2=9.0, y=8.1, расстояние=0.64\n",
            "X1=8.7, X2=9.2, y=8.1, расстояние=0.73\n",
            "X1=9.5, X2=9.5, y=8.3, расстояние=1.41\n",
            "X1=9.0, X2=2.0, y=4.5, расстояние=6.52\n",
            "X1=1.0, X2=8.5, y=6.0, расстояние=7.50\n",
            "X1=8.0, X2=1.0, y=4.0, расстояние=7.52\n",
            "X1=2.5, X2=2.0, y=2.0, расстояние=8.85\n",
            "X1=2.0, X2=2.0, y=1.9, расстояние=9.19\n",
            "X1=1.0, X2=1.2, y=1.2, расстояние=10.47\n",
            "X1=0.5, X2=1.0, y=1.1, расстояние=10.97\n",
            "\n",
            "Вывод расстояния для отсортированного списка соседей:\n"
          ]
        },
        {
          "data": {
            "image/png": "[encoded data removed]",
            "text/plain": [
              "<Figure size 432x288 with 1 Axes>"
            ]
          },
          "metadata": {},
          "output_type": "display_data"
        },
        {
          "name": "stdout",
          "output_type": "stream",
          "text": [
            "Вывод К ближайших соседей:\n",
            "X1=9.0, X2=8.2, y=8.2, расстояние=0.58\n",
            "X1=8.1, X2=9.0, y=8.1, расстояние=0.64\n",
            "X1=8.7, X2=9.2, y=8.1, расстояние=0.73\n",
            "X1=9.5, X2=9.5, y=8.3, расстояние=1.41\n",
            "X1=9.0, X2=2.0, y=4.5, расстояние=6.52\n",
            "\n",
            "Визуализация К ближайших соседей:\n"
          ]
        },
        {
          "data": {
            "image/png": "[encoded data removed]",
            "text/plain": [
              "<Figure size 432x288 with 1 Axes>"
            ]
          },
          "metadata": {},
          "output_type": "display_data"
        },
        {
          "data": {
            "text/plain": [
              "[2.04, 5.24, 4.12, 7.44]"
            ]
          },
          "execution_count": 27,
          "metadata": {},
          "output_type": "execute_result"
        }
      ],
      "source": [
        "# Для всех объектов тестовой выборки (регрессия)\n",
        "simple_knn_regr_prediction = simple_knn_regr.predict(K=5, \\\n",
        "                          prediction_type=PredictionType.REGRESSION, \\\n",
        "                          X_test=data_test[['x1','x2']])\n",
        "simple_knn_regr_prediction"
      ]
    },
    {
      "cell_type": "code",
      "execution_count": null,
      "metadata": {
        "id": "g-3HCXB_tajB",
        "outputId": "bd6c4aa8-9fdc-4fb6-8184-e0ea11873f53",
        "scrolled": false
      },
      "outputs": [
        {
          "name": "stdout",
          "output_type": "stream",
          "text": [
            "\n",
            "**************************************\n",
            "Проверяемая точка:  [1.7, 1.7]\n",
            "**************************************\n",
            "Вывод отсортированного списка соседей:\n",
            "X1=2.0, X2=2.0, y=A, расстояние=0.42\n",
            "X1=2.5, X2=2.0, y=A, расстояние=0.85\n",
            "X1=1.0, X2=1.2, y=A, расстояние=0.86\n",
            "X1=0.5, X2=1.0, y=A, расстояние=1.39\n",
            "X1=8.0, X2=1.0, y=B, расстояние=6.34\n",
            "X1=1.0, X2=8.5, y=C, расстояние=6.84\n",
            "X1=9.0, X2=2.0, y=B, расстояние=7.31\n",
            "X1=8.1, X2=9.0, y=D, расстояние=9.71\n",
            "X1=9.0, X2=8.2, y=D, расстояние=9.77\n",
            "X1=8.7, X2=9.2, y=D, расстояние=10.26\n",
            "X1=9.5, X2=9.5, y=D, расстояние=11.03\n",
            "\n",
            "Вывод расстояния для отсортированного списка соседей:\n"
          ]
        },
        {
          "data": {
            "image/png": "[encoded data removed]",
            "text/plain": [
              "<Figure size 432x288 with 1 Axes>"
            ]
          },
          "metadata": {},
          "output_type": "display_data"
        },
        {
          "name": "stdout",
          "output_type": "stream",
          "text": [
            "Вывод К ближайших соседей:\n",
            "X1=2.0, X2=2.0, y=A, расстояние=0.42\n",
            "X1=2.5, X2=2.0, y=A, расстояние=0.85\n",
            "X1=1.0, X2=1.2, y=A, расстояние=0.86\n",
            "\n",
            "Визуализация К ближайших соседей:\n"
          ]
        },
        {
          "data": {
            "image/png": "[encoded data removed]",
            "text/plain": [
              "<Figure size 432x288 with 1 Axes>"
            ]
          },
          "metadata": {},
          "output_type": "display_data"
        },
        {
          "name": "stdout",
          "output_type": "stream",
          "text": [
            "Классы, соответствующие К ближайшим соседям:\n",
            "класс=A, количество элементов=3\n",
            "\n",
            "**************************************\n",
            "Проверяемая точка:  [3.5, 7.0]\n",
            "**************************************\n",
            "Вывод отсортированного списка соседей:\n",
            "X1=1.0, X2=8.5, y=C, расстояние=2.92\n",
            "X1=8.1, X2=9.0, y=D, расстояние=5.02\n",
            "X1=2.5, X2=2.0, y=A, расстояние=5.10\n",
            "X1=2.0, X2=2.0, y=A, расстояние=5.22\n",
            "X1=9.0, X2=8.2, y=D, расстояние=5.63\n",
            "X1=8.7, X2=9.2, y=D, расстояние=5.65\n",
            "X1=1.0, X2=1.2, y=A, расстояние=6.32\n",
            "X1=9.5, X2=9.5, y=D, расстояние=6.50\n",
            "X1=0.5, X2=1.0, y=A, расстояние=6.71\n",
            "X1=9.0, X2=2.0, y=B, расстояние=7.43\n",
            "X1=8.0, X2=1.0, y=B, расстояние=7.50\n",
            "\n",
            "Вывод расстояния для отсортированного списка соседей:\n"
          ]
        },
        {
          "data": {
            "image/png": "[encoded data removed]",
            "text/plain": [
              "<Figure size 432x288 with 1 Axes>"
            ]
          },
          "metadata": {},
          "output_type": "display_data"
        },
        {
          "name": "stdout",
          "output_type": "stream",
          "text": [
            "Вывод К ближайших соседей:\n",
            "X1=1.0, X2=8.5, y=C, расстояние=2.92\n",
            "X1=8.1, X2=9.0, y=D, расстояние=5.02\n",
            "X1=2.5, X2=2.0, y=A, расстояние=5.10\n",
            "\n",
            "Визуализация К ближайших соседей:\n"
          ]
        },
        {
          "data": {
            "image/png": "[encoded data removed]",
            "text/plain": [
              "<Figure size 432x288 with 1 Axes>"
            ]
          },
          "metadata": {},
          "output_type": "display_data"
        },
        {
          "name": "stdout",
          "output_type": "stream",
          "text": [
            "Классы, соответствующие К ближайшим соседям:\n",
            "класс=A, количество элементов=1\n",
            "класс=C, количество элементов=1\n",
            "класс=D, количество элементов=1\n",
            "\n",
            "**************************************\n",
            "Проверяемая точка:  [8.5, 1.5]\n",
            "**************************************\n",
            "Вывод отсортированного списка соседей:\n",
            "X1=8.0, X2=1.0, y=B, расстояние=0.71\n",
            "X1=9.0, X2=2.0, y=B, расстояние=0.71\n",
            "X1=2.5, X2=2.0, y=A, расстояние=6.02\n",
            "X1=2.0, X2=2.0, y=A, расстояние=6.52\n",
            "X1=9.0, X2=8.2, y=D, расстояние=6.72\n",
            "X1=1.0, X2=1.2, y=A, расстояние=7.51\n",
            "X1=8.1, X2=9.0, y=D, расстояние=7.51\n",
            "X1=8.7, X2=9.2, y=D, расстояние=7.70\n",
            "X1=0.5, X2=1.0, y=A, расстояние=8.02\n",
            "X1=9.5, X2=9.5, y=D, расстояние=8.06\n",
            "X1=1.0, X2=8.5, y=C, расстояние=10.26\n",
            "\n",
            "Вывод расстояния для отсортированного списка соседей:\n"
          ]
        },
        {
          "data": {
            "image/png": "[encoded data removed]",
            "text/plain": [
              "<Figure size 432x288 with 1 Axes>"
            ]
          },
          "metadata": {},
          "output_type": "display_data"
        },
        {
          "name": "stdout",
          "output_type": "stream",
          "text": [
            "Вывод К ближайших соседей:\n",
            "X1=8.0, X2=1.0, y=B, расстояние=0.71\n",
            "X1=9.0, X2=2.0, y=B, расстояние=0.71\n",
            "X1=2.5, X2=2.0, y=A, расстояние=6.02\n",
            "\n",
            "Визуализация К ближайших соседей:\n"
          ]
        },
        {
          "data": {
            "image/png": "[encoded data removed]",
            "text/plain": [
              "<Figure size 432x288 with 1 Axes>"
            ]
          },
          "metadata": {},
          "output_type": "display_data"
        },
        {
          "name": "stdout",
          "output_type": "stream",
          "text": [
            "Классы, соответствующие К ближайшим соседям:\n",
            "класс=B, количество элементов=2\n",
            "класс=A, количество элементов=1\n",
            "\n",
            "**************************************\n",
            "Проверяемая точка:  [8.5, 8.5]\n",
            "**************************************\n",
            "Вывод отсортированного списка соседей:\n",
            "X1=9.0, X2=8.2, y=D, расстояние=0.58\n",
            "X1=8.1, X2=9.0, y=D, расстояние=0.64\n",
            "X1=8.7, X2=9.2, y=D, расстояние=0.73\n",
            "X1=9.5, X2=9.5, y=D, расстояние=1.41\n",
            "X1=9.0, X2=2.0, y=B, расстояние=6.52\n",
            "X1=1.0, X2=8.5, y=C, расстояние=7.50\n",
            "X1=8.0, X2=1.0, y=B, расстояние=7.52\n",
            "X1=2.5, X2=2.0, y=A, расстояние=8.85\n",
            "X1=2.0, X2=2.0, y=A, расстояние=9.19\n",
            "X1=1.0, X2=1.2, y=A, расстояние=10.47\n",
            "X1=0.5, X2=1.0, y=A, расстояние=10.97\n",
            "\n",
            "Вывод расстояния для отсортированного списка соседей:\n"
          ]
        },
        {
          "data": {
            "image/png": "[encoded data removed]",
            "text/plain": [
              "<Figure size 432x288 with 1 Axes>"
            ]
          },
          "metadata": {},
          "output_type": "display_data"
        },
        {
          "name": "stdout",
          "output_type": "stream",
          "text": [
            "Вывод К ближайших соседей:\n",
            "X1=9.0, X2=8.2, y=D, расстояние=0.58\n",
            "X1=8.1, X2=9.0, y=D, расстояние=0.64\n",
            "X1=8.7, X2=9.2, y=D, расстояние=0.73\n",
            "\n",
            "Визуализация К ближайших соседей:\n"
          ]
        },
        {
          "data": {
            "image/png": "[encoded data removed]",
            "text/plain": [
              "<Figure size 432x288 with 1 Axes>"
            ]
          },
          "metadata": {},
          "output_type": "display_data"
        },
        {
          "name": "stdout",
          "output_type": "stream",
          "text": [
            "Классы, соответствующие К ближайшим соседям:\n",
            "класс=D, количество элементов=3\n"
          ]
        },
        {
          "data": {
            "text/plain": [
              "['A', 'A', 'B', 'D']"
            ]
          },
          "execution_count": 28,
          "metadata": {},
          "output_type": "execute_result"
        }
      ],
      "source": [
        "# Для всех объектов тестовой выборки (классификация)\n",
        "simple_knn_clas_prediction = simple_knn_clas.predict(K=3, \\\n",
        "                          prediction_type=PredictionType.CLASSIFICATION, \\\n",
        "                          X_test=data_test[['x1','x2']])\n",
        "simple_knn_clas_prediction"
      ]
    },
    {
      "cell_type": "markdown",
      "metadata": {
        "id": "yUWQmynVtajB"
      },
      "source": [
        "## [Использование классов scikit-learn](https://scikit-learn.org/stable/modules/neighbors.html)\n",
        "\n",
        "- [KNeighborsRegressor](https://scikit-learn.org/stable/modules/generated/sklearn.neighbors.KNeighborsRegressor.html) - для решения задачи регрессии\n",
        "- [KNeighborsClassifier](https://scikit-learn.org/stable/modules/generated/sklearn.neighbors.KNeighborsClassifier.html) - для решения задачи классификации\n",
        "\n",
        "Также существуют разновидности алгоритма, рассматривающие ближайших соседей в рамках некоторой окрестности (радиуса):\n",
        "- [RadiusNeighborsRegressor](https://scikit-learn.org/stable/modules/generated/sklearn.neighbors.RadiusNeighborsRegressor.html)\n",
        "- [RadiusNeighborsClassifier](https://scikit-learn.org/stable/modules/generated/sklearn.neighbors.RadiusNeighborsClassifier.html)"
      ]
    },
    {
      "cell_type": "code",
      "execution_count": null,
      "metadata": {
        "colab": {
          "background_save": true
        },
        "id": "LVScSNlqtajC"
      },
      "outputs": [],
      "source": [
        "from sklearn.neighbors import KNeighborsRegressor, KNeighborsClassifier"
      ]
    },
    {
      "cell_type": "markdown",
      "metadata": {
        "id": "fChg9nmbtajC"
      },
      "source": [
        "### Классификация"
      ]
    },
    {
      "cell_type": "code",
      "execution_count": null,
      "metadata": {
        "colab": {
          "background_save": true
        },
        "id": "yk-tsY9MtajC",
        "outputId": "4fb4e805-ed34-4a01-92ea-9a2186369e61"
      },
      "outputs": [
        {
          "data": {
            "text/html": [
              "<style>#sk-container-id-1 {color: black;background-color: white;}#sk-container-id-1 pre{padding: 0;}#sk-container-id-1 div.sk-toggleable {background-color: white;}#sk-container-id-1 label.sk-toggleable__label {cursor: pointer;display: block;width: 100%;margin-bottom: 0;padding: 0.3em;box-sizing: border-box;text-align: center;}#sk-container-id-1 label.sk-toggleable__label-arrow:before {content: \"▸\";float: left;margin-right: 0.25em;color: #696969;}#sk-container-id-1 label.sk-toggleable__label-arrow:hover:before {color: black;}#sk-container-id-1 div.sk-estimator:hover label.sk-toggleable__label-arrow:before {color: black;}#sk-container-id-1 div.sk-toggleable__content {max-height: 0;max-width: 0;overflow: hidden;text-align: left;background-color: #f0f8ff;}#sk-container-id-1 div.sk-toggleable__content pre {margin: 0.2em;color: black;border-radius: 0.25em;background-color: #f0f8ff;}#sk-container-id-1 input.sk-toggleable__control:checked~div.sk-toggleable__content {max-height: 200px;max-width: 100%;overflow: auto;}#sk-container-id-1 input.sk-toggleable__control:checked~label.sk-toggleable__label-arrow:before {content: \"▾\";}#sk-container-id-1 div.sk-estimator input.sk-toggleable__control:checked~label.sk-toggleable__label {background-color: #d4ebff;}#sk-container-id-1 div.sk-label input.sk-toggleable__control:checked~label.sk-toggleable__label {background-color: #d4ebff;}#sk-container-id-1 input.sk-hidden--visually {border: 0;clip: rect(1px 1px 1px 1px);clip: rect(1px, 1px, 1px, 1px);height: 1px;margin: -1px;overflow: hidden;padding: 0;position: absolute;width: 1px;}#sk-container-id-1 div.sk-estimator {font-family: monospace;background-color: #f0f8ff;border: 1px dotted black;border-radius: 0.25em;box-sizing: border-box;margin-bottom: 0.5em;}#sk-container-id-1 div.sk-estimator:hover {background-color: #d4ebff;}#sk-container-id-1 div.sk-parallel-item::after {content: \"\";width: 100%;border-bottom: 1px solid gray;flex-grow: 1;}#sk-container-id-1 div.sk-label:hover label.sk-toggleable__label {background-color: #d4ebff;}#sk-container-id-1 div.sk-serial::before {content: \"\";position: absolute;border-left: 1px solid gray;box-sizing: border-box;top: 0;bottom: 0;left: 50%;z-index: 0;}#sk-container-id-1 div.sk-serial {display: flex;flex-direction: column;align-items: center;background-color: white;padding-right: 0.2em;padding-left: 0.2em;position: relative;}#sk-container-id-1 div.sk-item {position: relative;z-index: 1;}#sk-container-id-1 div.sk-parallel {display: flex;align-items: stretch;justify-content: center;background-color: white;position: relative;}#sk-container-id-1 div.sk-item::before, #sk-container-id-1 div.sk-parallel-item::before {content: \"\";position: absolute;border-left: 1px solid gray;box-sizing: border-box;top: 0;bottom: 0;left: 50%;z-index: -1;}#sk-container-id-1 div.sk-parallel-item {display: flex;flex-direction: column;z-index: 1;position: relative;background-color: white;}#sk-container-id-1 div.sk-parallel-item:first-child::after {align-self: flex-end;width: 50%;}#sk-container-id-1 div.sk-parallel-item:last-child::after {align-self: flex-start;width: 50%;}#sk-container-id-1 div.sk-parallel-item:only-child::after {width: 0;}#sk-container-id-1 div.sk-dashed-wrapped {border: 1px dashed gray;margin: 0 0.4em 0.5em 0.4em;box-sizing: border-box;padding-bottom: 0.4em;background-color: white;}#sk-container-id-1 div.sk-label label {font-family: monospace;font-weight: bold;display: inline-block;line-height: 1.2em;}#sk-container-id-1 div.sk-label-container {text-align: center;}#sk-container-id-1 div.sk-container {/* jupyter's `normalize.less` sets `[hidden] { display: none; }` but bootstrap.min.css set `[hidden] { display: none !important; }` so we also need the `!important` here to be able to override the default hidden behavior on the sphinx rendered scikit-learn.org. See: https://github.com/scikit-learn/scikit-learn/issues/21755 */display: inline-block !important;position: relative;}#sk-container-id-1 div.sk-text-repr-fallback {display: none;}</style><div id=\"sk-container-id-1\" class=\"sk-top-container\"><div class=\"sk-text-repr-fallback\"><pre>KNeighborsClassifier(n_neighbors=3)</pre><b>In a Jupyter environment, please rerun this cell to show the HTML representation or trust the notebook. <br />On GitHub, the HTML representation is unable to render, please try loading this page with nbviewer.org.</b></div><div class=\"sk-container\" hidden><div class=\"sk-item\"><div class=\"sk-estimator sk-toggleable\"><input class=\"sk-toggleable__control sk-hidden--visually\" id=\"sk-estimator-id-1\" type=\"checkbox\" checked><label for=\"sk-estimator-id-1\" class=\"sk-toggleable__label sk-toggleable__label-arrow\">KNeighborsClassifier</label><div class=\"sk-toggleable__content\"><pre>KNeighborsClassifier(n_neighbors=3)</pre></div></div></div></div></div>"
            ],
            "text/plain": [
              "KNeighborsClassifier(n_neighbors=3)"
            ]
          },
          "execution_count": 26,
          "metadata": {},
          "output_type": "execute_result"
        }
      ],
      "source": [
        "KNeighborsClassifierObj = KNeighborsClassifier(n_neighbors=3)\n",
        "KNeighborsClassifierObj"
      ]
    },
    {
      "cell_type": "code",
      "execution_count": null,
      "metadata": {
        "colab": {
          "background_save": true
        },
        "id": "IJr69LPntajC",
        "outputId": "94f9888c-c4c1-4b41-8695-3eaad9183641"
      },
      "outputs": [
        {
          "data": {
            "text/plain": [
              "array(['A', 'A', 'B', 'D'], dtype=object)"
            ]
          },
          "execution_count": 27,
          "metadata": {},
          "output_type": "execute_result"
        }
      ],
      "source": [
        "KNeighborsClassifierObj.fit(data_train[['x1','x2']], data_train['y_clas'])\n",
        "KNeighborsClassifierObj.predict(data_test[['x1','x2']])"
      ]
    },
    {
      "cell_type": "code",
      "execution_count": null,
      "metadata": {
        "colab": {
          "background_save": true
        },
        "id": "91fY7aEttajC",
        "outputId": "0df0cc78-ee28-4d6a-e0f1-7d2febea8964"
      },
      "outputs": [
        {
          "data": {
            "text/plain": [
              "array(['A', 'A', 'B', 'D'], dtype='<U1')"
            ]
          },
          "execution_count": 28,
          "metadata": {},
          "output_type": "execute_result"
        }
      ],
      "source": [
        "simple_knn_clas = SimpleKNN()\n",
        "simple_knn_clas.fit(data_train[['x1','x2']], data_train['y_clas'])\n",
        "simple_knn_clas_prediction = simple_knn_clas.predict(K=3, \\\n",
        "                          prediction_type=PredictionType.CLASSIFICATION, \\\n",
        "                          X_test=data_test[['x1','x2']], verbose = False)\n",
        "np.array(simple_knn_clas_prediction)"
      ]
    },
    {
      "cell_type": "markdown",
      "metadata": {
        "id": "08pXKafRtajD"
      },
      "source": [
        "### Регрессия"
      ]
    },
    {
      "cell_type": "code",
      "execution_count": null,
      "metadata": {
        "colab": {
          "background_save": true
        },
        "id": "irN24HPitajD",
        "outputId": "c6d6316d-5318-48ad-ac55-2c0898aa2f46"
      },
      "outputs": [
        {
          "data": {
            "text/html": [
              "<style>#sk-container-id-2 {color: black;background-color: white;}#sk-container-id-2 pre{padding: 0;}#sk-container-id-2 div.sk-toggleable {background-color: white;}#sk-container-id-2 label.sk-toggleable__label {cursor: pointer;display: block;width: 100%;margin-bottom: 0;padding: 0.3em;box-sizing: border-box;text-align: center;}#sk-container-id-2 label.sk-toggleable__label-arrow:before {content: \"▸\";float: left;margin-right: 0.25em;color: #696969;}#sk-container-id-2 label.sk-toggleable__label-arrow:hover:before {color: black;}#sk-container-id-2 div.sk-estimator:hover label.sk-toggleable__label-arrow:before {color: black;}#sk-container-id-2 div.sk-toggleable__content {max-height: 0;max-width: 0;overflow: hidden;text-align: left;background-color: #f0f8ff;}#sk-container-id-2 div.sk-toggleable__content pre {margin: 0.2em;color: black;border-radius: 0.25em;background-color: #f0f8ff;}#sk-container-id-2 input.sk-toggleable__control:checked~div.sk-toggleable__content {max-height: 200px;max-width: 100%;overflow: auto;}#sk-container-id-2 input.sk-toggleable__control:checked~label.sk-toggleable__label-arrow:before {content: \"▾\";}#sk-container-id-2 div.sk-estimator input.sk-toggleable__control:checked~label.sk-toggleable__label {background-color: #d4ebff;}#sk-container-id-2 div.sk-label input.sk-toggleable__control:checked~label.sk-toggleable__label {background-color: #d4ebff;}#sk-container-id-2 input.sk-hidden--visually {border: 0;clip: rect(1px 1px 1px 1px);clip: rect(1px, 1px, 1px, 1px);height: 1px;margin: -1px;overflow: hidden;padding: 0;position: absolute;width: 1px;}#sk-container-id-2 div.sk-estimator {font-family: monospace;background-color: #f0f8ff;border: 1px dotted black;border-radius: 0.25em;box-sizing: border-box;margin-bottom: 0.5em;}#sk-container-id-2 div.sk-estimator:hover {background-color: #d4ebff;}#sk-container-id-2 div.sk-parallel-item::after {content: \"\";width: 100%;border-bottom: 1px solid gray;flex-grow: 1;}#sk-container-id-2 div.sk-label:hover label.sk-toggleable__label {background-color: #d4ebff;}#sk-container-id-2 div.sk-serial::before {content: \"\";position: absolute;border-left: 1px solid gray;box-sizing: border-box;top: 0;bottom: 0;left: 50%;z-index: 0;}#sk-container-id-2 div.sk-serial {display: flex;flex-direction: column;align-items: center;background-color: white;padding-right: 0.2em;padding-left: 0.2em;position: relative;}#sk-container-id-2 div.sk-item {position: relative;z-index: 1;}#sk-container-id-2 div.sk-parallel {display: flex;align-items: stretch;justify-content: center;background-color: white;position: relative;}#sk-container-id-2 div.sk-item::before, #sk-container-id-2 div.sk-parallel-item::before {content: \"\";position: absolute;border-left: 1px solid gray;box-sizing: border-box;top: 0;bottom: 0;left: 50%;z-index: -1;}#sk-container-id-2 div.sk-parallel-item {display: flex;flex-direction: column;z-index: 1;position: relative;background-color: white;}#sk-container-id-2 div.sk-parallel-item:first-child::after {align-self: flex-end;width: 50%;}#sk-container-id-2 div.sk-parallel-item:last-child::after {align-self: flex-start;width: 50%;}#sk-container-id-2 div.sk-parallel-item:only-child::after {width: 0;}#sk-container-id-2 div.sk-dashed-wrapped {border: 1px dashed gray;margin: 0 0.4em 0.5em 0.4em;box-sizing: border-box;padding-bottom: 0.4em;background-color: white;}#sk-container-id-2 div.sk-label label {font-family: monospace;font-weight: bold;display: inline-block;line-height: 1.2em;}#sk-container-id-2 div.sk-label-container {text-align: center;}#sk-container-id-2 div.sk-container {/* jupyter's `normalize.less` sets `[hidden] { display: none; }` but bootstrap.min.css set `[hidden] { display: none !important; }` so we also need the `!important` here to be able to override the default hidden behavior on the sphinx rendered scikit-learn.org. See: https://github.com/scikit-learn/scikit-learn/issues/21755 */display: inline-block !important;position: relative;}#sk-container-id-2 div.sk-text-repr-fallback {display: none;}</style><div id=\"sk-container-id-2\" class=\"sk-top-container\"><div class=\"sk-text-repr-fallback\"><pre>KNeighborsRegressor()</pre><b>In a Jupyter environment, please rerun this cell to show the HTML representation or trust the notebook. <br />On GitHub, the HTML representation is unable to render, please try loading this page with nbviewer.org.</b></div><div class=\"sk-container\" hidden><div class=\"sk-item\"><div class=\"sk-estimator sk-toggleable\"><input class=\"sk-toggleable__control sk-hidden--visually\" id=\"sk-estimator-id-2\" type=\"checkbox\" checked><label for=\"sk-estimator-id-2\" class=\"sk-toggleable__label sk-toggleable__label-arrow\">KNeighborsRegressor</label><div class=\"sk-toggleable__content\"><pre>KNeighborsRegressor()</pre></div></div></div></div></div>"
            ],
            "text/plain": [
              "KNeighborsRegressor()"
            ]
          },
          "execution_count": 29,
          "metadata": {},
          "output_type": "execute_result"
        }
      ],
      "source": [
        "KNeighborsRegressorObj = KNeighborsRegressor()\n",
        "KNeighborsRegressorObj"
      ]
    },
    {
      "cell_type": "code",
      "execution_count": null,
      "metadata": {
        "colab": {
          "background_save": true
        },
        "id": "VM1uWmXDtajD",
        "outputId": "c64bc26a-aaaf-4aa4-e4d1-1fe2b84f61b4"
      },
      "outputs": [
        {
          "data": {
            "text/plain": [
              "array([2.04, 5.24, 4.12, 7.44])"
            ]
          },
          "execution_count": 30,
          "metadata": {},
          "output_type": "execute_result"
        }
      ],
      "source": [
        "KNeighborsRegressorObj.fit(data_train[['x1','x2']], data_train['y'])\n",
        "KNeighborsRegressorObj.predict(data_test[['x1','x2']])"
      ]
    },
    {
      "cell_type": "code",
      "execution_count": null,
      "metadata": {
        "colab": {
          "background_save": true
        },
        "id": "EOk5vvqrtajD",
        "outputId": "eaa736ef-f685-4378-903c-35e8857c2feb"
      },
      "outputs": [
        {
          "data": {
            "text/plain": [
              "array([2.04, 5.24, 4.12, 7.44])"
            ]
          },
          "execution_count": 31,
          "metadata": {},
          "output_type": "execute_result"
        }
      ],
      "source": [
        "simple_knn_regr = SimpleKNN()\n",
        "simple_knn_regr.fit(data_train[['x1','x2']], data_train['y'])\n",
        "simple_knn_regr_prediction = simple_knn_regr.predict(K=5, \\\n",
        "                          prediction_type=PredictionType.REGRESSION, \\\n",
        "                          X_test=data_test[['x1','x2']], verbose = False)\n",
        "np.array(simple_knn_regr_prediction)"
      ]
    },
    {
      "cell_type": "markdown",
      "metadata": {
        "id": "-grRHo_-tajE"
      },
      "source": [
        "## Достоинства и недостатки\n",
        "\n",
        "### Достоинства\n",
        "- Простота и универсальность метода.\n",
        "- Возможность использования для классификации и регрессии.\n",
        "- Возможность использования для обучения без учителя.\n",
        "\n",
        "### Недостатки\n",
        "- Метод в целом считается не очень точным.\n",
        "- Зависимость от гиперпараметра K.\n",
        "- При большом количестве точек перебор и вычисление расстояния занимают много времени. Для этого используются различные методы ускорения алгоритма - https://scikit-learn.org/stable/modules/neighbors.html#nearest-neighbor-algorithms, в частности [KDTree](https://scikit-learn.org/stable/modules/generated/sklearn.neighbors.KDTree.html) и [BallTree](https://scikit-learn.org/stable/modules/generated/sklearn.neighbors.BallTree.html).\n",
        "- Статья, посвященная алгоритму [BallTree.](http://people.ee.duke.edu/~lcarin/liu06a.pdf)"
      ]
    },
    {
      "cell_type": "markdown",
      "metadata": {
        "id": "nRZENxDRtajE"
      },
      "source": [
        "## Особенности алгоритма"
      ]
    },
    {
      "cell_type": "markdown",
      "metadata": {
        "id": "VMwQagVvtajE"
      },
      "source": [
        "### Обучение без учителя\n",
        "Поскольку метод фактически не строит модель $M$ и для поиска ближайших соседей использует только меру близости между $X^{train}$ и $X^{test}$, то в некоторых случаях $Y^{train}$ игнорируют, и метод k-NN рассматривают как один из методов обучения без учителя. В этом случае k-NN можно рассматривать как специфическую разновидность алгоритма кластеризации - http://scikit-learn.org/stable/modules/neighbors.html"
      ]
    },
    {
      "cell_type": "markdown",
      "metadata": {
        "id": "eBCWRLGLtajE"
      },
      "source": [
        "### Масштабирование признаков\n",
        "Если признаки лежат в различных диапазонах, то необходимо их масштабировать с использованием MinMax масштабирования или масштабирования на основе Z-оценки."
      ]
    },
    {
      "cell_type": "code",
      "execution_count": null,
      "metadata": {
        "id": "KI9rk4NvtajF"
      },
      "outputs": [],
      "source": []
    }
  ],
  "metadata": {
    "colab": {
      "provenance": []
    },
    "kernelspec": {
      "display_name": "Python 3 (ipykernel)",
      "language": "python",
      "name": "python3"
    },
    "language_info": {
      "codemirror_mode": {
        "name": "ipython",
        "version": 3
      },
      "file_extension": ".py",
      "mimetype": "text/x-python",
      "name": "python",
      "nbconvert_exporter": "python",
      "pygments_lexer": "ipython3",
      "version": "3.9.7"
    },
    "toc": {
      "base_numbering": 1,
      "nav_menu": {},
      "number_sections": true,
      "sideBar": true,
      "skip_h1_title": false,
      "title_cell": "Table of Contents",
      "title_sidebar": "Contents",
      "toc_cell": false,
      "toc_position": {},
      "toc_section_display": true,
      "toc_window_display": true
    }
  },
  "nbformat": 4,
  "nbformat_minor": 0
}